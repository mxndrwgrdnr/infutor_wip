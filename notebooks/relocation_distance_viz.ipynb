{
 "cells": [
  {
   "cell_type": "code",
   "execution_count": 26,
   "metadata": {},
   "outputs": [],
   "source": [
    "import dask.dataframe as dd\n",
    "import pandas as pd\n",
    "import seaborn as sns\n",
    "import numpy as np\n",
    "from matplotlib import pyplot as plt\n",
    "%matplotlib inline"
   ]
  },
  {
   "cell_type": "code",
   "execution_count": 48,
   "metadata": {},
   "outputs": [],
   "source": [
    "properties = dd.read_csv(\n",
    "    '/home/data/infutor/Property/bay_area_properties*',\n",
    "#     dtype=str\n",
    "    usecols=list(range(15,25)) + [30, 211]\n",
    ")"
   ]
  },
  {
   "cell_type": "code",
   "execution_count": 44,
   "metadata": {},
   "outputs": [
    {
     "data": {
      "text/html": [
       "<div>\n",
       "<style scoped>\n",
       "    .dataframe tbody tr th:only-of-type {\n",
       "        vertical-align: middle;\n",
       "    }\n",
       "\n",
       "    .dataframe tbody tr th {\n",
       "        vertical-align: top;\n",
       "    }\n",
       "\n",
       "    .dataframe thead th {\n",
       "        text-align: right;\n",
       "    }\n",
       "</style>\n",
       "<table border=\"1\" class=\"dataframe\">\n",
       "  <thead>\n",
       "    <tr style=\"text-align: right;\">\n",
       "      <th></th>\n",
       "      <th>HOUSE</th>\n",
       "      <th>PREDIR</th>\n",
       "      <th>STREET</th>\n",
       "      <th>STRTYPE</th>\n",
       "      <th>POSTDIR</th>\n",
       "      <th>APTTYPE</th>\n",
       "      <th>APTNBR</th>\n",
       "      <th>CITY</th>\n",
       "      <th>STATE</th>\n",
       "      <th>ZIP</th>\n",
       "      <th>ADDRID</th>\n",
       "    </tr>\n",
       "  </thead>\n",
       "  <tbody>\n",
       "    <tr>\n",
       "      <th>0</th>\n",
       "      <td>NaN</td>\n",
       "      <td>NaN</td>\n",
       "      <td>NaN</td>\n",
       "      <td>NaN</td>\n",
       "      <td>NaN</td>\n",
       "      <td>NaN</td>\n",
       "      <td>NaN</td>\n",
       "      <td>NOVATO</td>\n",
       "      <td>CA</td>\n",
       "      <td>NaN</td>\n",
       "      <td>248051559</td>\n",
       "    </tr>\n",
       "    <tr>\n",
       "      <th>1</th>\n",
       "      <td>1613</td>\n",
       "      <td>N</td>\n",
       "      <td>ASCOT</td>\n",
       "      <td>PKWY</td>\n",
       "      <td>NaN</td>\n",
       "      <td>NaN</td>\n",
       "      <td>NaN</td>\n",
       "      <td>VALLEJO</td>\n",
       "      <td>CA</td>\n",
       "      <td>NaN</td>\n",
       "      <td>660643601</td>\n",
       "    </tr>\n",
       "    <tr>\n",
       "      <th>2</th>\n",
       "      <td>NaN</td>\n",
       "      <td>NaN</td>\n",
       "      <td>NaN</td>\n",
       "      <td>NaN</td>\n",
       "      <td>NaN</td>\n",
       "      <td>NaN</td>\n",
       "      <td>NaN</td>\n",
       "      <td>FAIRFIELD</td>\n",
       "      <td>CA</td>\n",
       "      <td>NaN</td>\n",
       "      <td>248051559</td>\n",
       "    </tr>\n",
       "    <tr>\n",
       "      <th>3</th>\n",
       "      <td>NaN</td>\n",
       "      <td>NaN</td>\n",
       "      <td>NaN</td>\n",
       "      <td>NaN</td>\n",
       "      <td>NaN</td>\n",
       "      <td>NaN</td>\n",
       "      <td>NaN</td>\n",
       "      <td>FAIRFIELD</td>\n",
       "      <td>CA</td>\n",
       "      <td>NaN</td>\n",
       "      <td>248051559</td>\n",
       "    </tr>\n",
       "    <tr>\n",
       "      <th>4</th>\n",
       "      <td>NaN</td>\n",
       "      <td>NaN</td>\n",
       "      <td>NaN</td>\n",
       "      <td>NaN</td>\n",
       "      <td>NaN</td>\n",
       "      <td>NaN</td>\n",
       "      <td>NaN</td>\n",
       "      <td>FAIRFIELD</td>\n",
       "      <td>CA</td>\n",
       "      <td>NaN</td>\n",
       "      <td>248051559</td>\n",
       "    </tr>\n",
       "  </tbody>\n",
       "</table>\n",
       "</div>"
      ],
      "text/plain": [
       "  HOUSE PREDIR STREET STRTYPE POSTDIR APTTYPE APTNBR       CITY STATE  ZIP  \\\n",
       "0   NaN    NaN    NaN     NaN     NaN     NaN    NaN     NOVATO    CA  NaN   \n",
       "1  1613      N  ASCOT    PKWY     NaN     NaN    NaN    VALLEJO    CA  NaN   \n",
       "2   NaN    NaN    NaN     NaN     NaN     NaN    NaN  FAIRFIELD    CA  NaN   \n",
       "3   NaN    NaN    NaN     NaN     NaN     NaN    NaN  FAIRFIELD    CA  NaN   \n",
       "4   NaN    NaN    NaN     NaN     NaN     NaN    NaN  FAIRFIELD    CA  NaN   \n",
       "\n",
       "      ADDRID  \n",
       "0  248051559  \n",
       "1  660643601  \n",
       "2  248051559  \n",
       "3  248051559  \n",
       "4  248051559  "
      ]
     },
     "execution_count": 44,
     "metadata": {},
     "output_type": "execute_result"
    }
   ],
   "source": [
    "properties.head()"
   ]
  },
  {
   "cell_type": "code",
   "execution_count": 50,
   "metadata": {},
   "outputs": [
    {
     "name": "stderr",
     "output_type": "stream",
     "text": [
      "/home/max/anaconda3/envs/infutor/lib/python3.7/site-packages/dask/core.py:118: DtypeWarning: Columns (15) have mixed types. Specify dtype option on import or set low_memory=False.\n",
      "  args2 = [_execute_task(a, cache) for a in args]\n",
      "/home/max/anaconda3/envs/infutor/lib/python3.7/site-packages/dask/core.py:118: DtypeWarning: Columns (15,19) have mixed types. Specify dtype option on import or set low_memory=False.\n",
      "  args2 = [_execute_task(a, cache) for a in args]\n"
     ]
    },
    {
     "data": {
      "text/html": [
       "<div>\n",
       "<style scoped>\n",
       "    .dataframe tbody tr th:only-of-type {\n",
       "        vertical-align: middle;\n",
       "    }\n",
       "\n",
       "    .dataframe tbody tr th {\n",
       "        vertical-align: top;\n",
       "    }\n",
       "\n",
       "    .dataframe thead th {\n",
       "        text-align: right;\n",
       "    }\n",
       "</style>\n",
       "<table border=\"1\" class=\"dataframe\">\n",
       "  <thead>\n",
       "    <tr style=\"text-align: right;\">\n",
       "      <th></th>\n",
       "      <th>HOUSE</th>\n",
       "      <th>PREDIR</th>\n",
       "      <th>STREET</th>\n",
       "      <th>STRTYPE</th>\n",
       "      <th>POSTDIR</th>\n",
       "      <th>APTTYPE</th>\n",
       "      <th>APTNBR</th>\n",
       "      <th>CITY</th>\n",
       "      <th>STATE</th>\n",
       "      <th>ZIP</th>\n",
       "      <th>DPV</th>\n",
       "      <th>ADDRID</th>\n",
       "    </tr>\n",
       "  </thead>\n",
       "  <tbody>\n",
       "    <tr>\n",
       "      <th>12409</th>\n",
       "      <td>550</td>\n",
       "      <td>NaN</td>\n",
       "      <td>DAVIS</td>\n",
       "      <td>ST</td>\n",
       "      <td>NaN</td>\n",
       "      <td>UNIT</td>\n",
       "      <td>40</td>\n",
       "      <td>SAN FRANCISCO</td>\n",
       "      <td>CA</td>\n",
       "      <td>94111.0</td>\n",
       "      <td>Y</td>\n",
       "      <td>273700577</td>\n",
       "    </tr>\n",
       "    <tr>\n",
       "      <th>21272</th>\n",
       "      <td>550</td>\n",
       "      <td>NaN</td>\n",
       "      <td>DAVIS</td>\n",
       "      <td>ST</td>\n",
       "      <td>NaN</td>\n",
       "      <td>UNIT</td>\n",
       "      <td>45</td>\n",
       "      <td>SAN FRANCISCO</td>\n",
       "      <td>CA</td>\n",
       "      <td>94111.0</td>\n",
       "      <td>Y</td>\n",
       "      <td>115743138</td>\n",
       "    </tr>\n",
       "  </tbody>\n",
       "</table>\n",
       "</div>"
      ],
      "text/plain": [
       "      HOUSE PREDIR STREET STRTYPE POSTDIR APTTYPE APTNBR           CITY STATE  \\\n",
       "12409   550    NaN  DAVIS      ST     NaN    UNIT     40  SAN FRANCISCO    CA   \n",
       "21272   550    NaN  DAVIS      ST     NaN    UNIT     45  SAN FRANCISCO    CA   \n",
       "\n",
       "           ZIP DPV     ADDRID  \n",
       "12409  94111.0   Y  273700577  \n",
       "21272  94111.0   Y  115743138  "
      ]
     },
     "execution_count": 50,
     "metadata": {},
     "output_type": "execute_result"
    }
   ],
   "source": [
    "properties[properties['ADDRID'].isin([273700577.0, 115743138])].compute()"
   ]
  },
  {
   "cell_type": "code",
   "execution_count": 2,
   "metadata": {},
   "outputs": [],
   "source": [
    "movers = pd.read_csv('../data/movers.csv', index_col=0)"
   ]
  },
  {
   "cell_type": "code",
   "execution_count": 23,
   "metadata": {},
   "outputs": [
    {
     "data": {
      "text/html": [
       "<div>\n",
       "<style scoped>\n",
       "    .dataframe tbody tr th:only-of-type {\n",
       "        vertical-align: middle;\n",
       "    }\n",
       "\n",
       "    .dataframe tbody tr th {\n",
       "        vertical-align: top;\n",
       "    }\n",
       "\n",
       "    .dataframe thead th {\n",
       "        text-align: right;\n",
       "    }\n",
       "</style>\n",
       "<table border=\"1\" class=\"dataframe\">\n",
       "  <thead>\n",
       "    <tr style=\"text-align: right;\">\n",
       "      <th></th>\n",
       "      <th>from_addrid</th>\n",
       "      <th>from_lat</th>\n",
       "      <th>from_lon</th>\n",
       "      <th>PROP_IND_from</th>\n",
       "      <th>PROP_OWNEROCC_from</th>\n",
       "      <th>PROP_QLTY_from</th>\n",
       "      <th>PROP_VALCALC_from</th>\n",
       "      <th>PROP_UNVBLDSQFT_from</th>\n",
       "      <th>PROP_BEDRMS_from</th>\n",
       "      <th>to_addrid</th>\n",
       "      <th>...</th>\n",
       "      <th>to_effdate</th>\n",
       "      <th>distance</th>\n",
       "      <th>AGE</th>\n",
       "      <th>LOR</th>\n",
       "      <th>HOMEOWNERCD</th>\n",
       "      <th>EHI</th>\n",
       "      <th>PCTB</th>\n",
       "      <th>PCTW</th>\n",
       "      <th>PCTH</th>\n",
       "      <th>PCTA</th>\n",
       "    </tr>\n",
       "  </thead>\n",
       "  <tbody>\n",
       "    <tr>\n",
       "      <th>Y39394691080411</th>\n",
       "      <td>41997203.0</td>\n",
       "      <td>37.750162</td>\n",
       "      <td>-122.42142</td>\n",
       "      <td>11.0</td>\n",
       "      <td>O</td>\n",
       "      <td>NaN</td>\n",
       "      <td>687564.0</td>\n",
       "      <td>1465.0</td>\n",
       "      <td>2.0</td>\n",
       "      <td>49139849</td>\n",
       "      <td>...</td>\n",
       "      <td>200811.0</td>\n",
       "      <td>0.221968</td>\n",
       "      <td>52.0</td>\n",
       "      <td>6.0</td>\n",
       "      <td>H</td>\n",
       "      <td>D</td>\n",
       "      <td>T</td>\n",
       "      <td>H</td>\n",
       "      <td>P</td>\n",
       "      <td>R</td>\n",
       "    </tr>\n",
       "    <tr>\n",
       "      <th>Y39394691080411</th>\n",
       "      <td>49139849.0</td>\n",
       "      <td>37.750164</td>\n",
       "      <td>-122.42142</td>\n",
       "      <td>11.0</td>\n",
       "      <td>A</td>\n",
       "      <td>NaN</td>\n",
       "      <td>687564.0</td>\n",
       "      <td>1402.0</td>\n",
       "      <td>2.0</td>\n",
       "      <td>41997203</td>\n",
       "      <td>...</td>\n",
       "      <td>200212.0</td>\n",
       "      <td>0.221968</td>\n",
       "      <td>52.0</td>\n",
       "      <td>6.0</td>\n",
       "      <td>H</td>\n",
       "      <td>D</td>\n",
       "      <td>T</td>\n",
       "      <td>H</td>\n",
       "      <td>P</td>\n",
       "      <td>R</td>\n",
       "    </tr>\n",
       "    <tr>\n",
       "      <th>Y39394691080411</th>\n",
       "      <td>49139849.0</td>\n",
       "      <td>37.750164</td>\n",
       "      <td>-122.42142</td>\n",
       "      <td>11.0</td>\n",
       "      <td>A</td>\n",
       "      <td>NaN</td>\n",
       "      <td>687564.0</td>\n",
       "      <td>1402.0</td>\n",
       "      <td>2.0</td>\n",
       "      <td>180797851</td>\n",
       "      <td>...</td>\n",
       "      <td>200910.0</td>\n",
       "      <td>1898.928619</td>\n",
       "      <td>52.0</td>\n",
       "      <td>6.0</td>\n",
       "      <td>H</td>\n",
       "      <td>D</td>\n",
       "      <td>T</td>\n",
       "      <td>H</td>\n",
       "      <td>P</td>\n",
       "      <td>R</td>\n",
       "    </tr>\n",
       "    <tr>\n",
       "      <th>Y39394691080411</th>\n",
       "      <td>180797851.0</td>\n",
       "      <td>37.759005</td>\n",
       "      <td>-122.40297</td>\n",
       "      <td>11.0</td>\n",
       "      <td>O</td>\n",
       "      <td>NaN</td>\n",
       "      <td>1762861.0</td>\n",
       "      <td>2323.0</td>\n",
       "      <td>2.0</td>\n",
       "      <td>34435742</td>\n",
       "      <td>...</td>\n",
       "      <td>201707.0</td>\n",
       "      <td>1576.111655</td>\n",
       "      <td>52.0</td>\n",
       "      <td>6.0</td>\n",
       "      <td>H</td>\n",
       "      <td>D</td>\n",
       "      <td>T</td>\n",
       "      <td>H</td>\n",
       "      <td>P</td>\n",
       "      <td>R</td>\n",
       "    </tr>\n",
       "  </tbody>\n",
       "</table>\n",
       "<p>4 rows × 28 columns</p>\n",
       "</div>"
      ],
      "text/plain": [
       "                 from_addrid   from_lat   from_lon  PROP_IND_from  \\\n",
       "Y39394691080411   41997203.0  37.750162 -122.42142           11.0   \n",
       "Y39394691080411   49139849.0  37.750164 -122.42142           11.0   \n",
       "Y39394691080411   49139849.0  37.750164 -122.42142           11.0   \n",
       "Y39394691080411  180797851.0  37.759005 -122.40297           11.0   \n",
       "\n",
       "                PROP_OWNEROCC_from PROP_QLTY_from  PROP_VALCALC_from  \\\n",
       "Y39394691080411                  O            NaN           687564.0   \n",
       "Y39394691080411                  A            NaN           687564.0   \n",
       "Y39394691080411                  A            NaN           687564.0   \n",
       "Y39394691080411                  O            NaN          1762861.0   \n",
       "\n",
       "                 PROP_UNVBLDSQFT_from  PROP_BEDRMS_from  to_addrid  ...  \\\n",
       "Y39394691080411                1465.0               2.0   49139849  ...   \n",
       "Y39394691080411                1402.0               2.0   41997203  ...   \n",
       "Y39394691080411                1402.0               2.0  180797851  ...   \n",
       "Y39394691080411                2323.0               2.0   34435742  ...   \n",
       "\n",
       "                 to_effdate     distance   AGE  LOR HOMEOWNERCD  EHI  PCTB  \\\n",
       "Y39394691080411    200811.0     0.221968  52.0  6.0           H    D     T   \n",
       "Y39394691080411    200212.0     0.221968  52.0  6.0           H    D     T   \n",
       "Y39394691080411    200910.0  1898.928619  52.0  6.0           H    D     T   \n",
       "Y39394691080411    201707.0  1576.111655  52.0  6.0           H    D     T   \n",
       "\n",
       "                 PCTW  PCTH  PCTA  \n",
       "Y39394691080411     H     P     R  \n",
       "Y39394691080411     H     P     R  \n",
       "Y39394691080411     H     P     R  \n",
       "Y39394691080411     H     P     R  \n",
       "\n",
       "[4 rows x 28 columns]"
      ]
     },
     "execution_count": 23,
     "metadata": {},
     "output_type": "execute_result"
    }
   ],
   "source": [
    "movers[movers.index.values == 'Y39394691080411']"
   ]
  },
  {
   "cell_type": "code",
   "execution_count": 13,
   "metadata": {},
   "outputs": [],
   "source": [
    "movers_w_dist = movers[movers['distance'] > 0]"
   ]
  },
  {
   "cell_type": "code",
   "execution_count": 52,
   "metadata": {},
   "outputs": [
    {
     "data": {
      "text/plain": [
       "<matplotlib.axes._subplots.AxesSubplot at 0x7f8ed090d9e8>"
      ]
     },
     "execution_count": 52,
     "metadata": {},
     "output_type": "execute_result"
    },
    {
     "data": {
      "image/png": "[encoded data removed]",
      "text/plain": [
       "<Figure size 864x360 with 1 Axes>"
      ]
     },
     "metadata": {
      "needs_background": "light"
     },
     "output_type": "display_data"
    }
   ],
   "source": [
    "fig, ax = plt.subplots(figsize=(12,5))\n",
    "data = movers_w_dist['distance']\n",
    "sns.distplot(data, ax=ax)"
   ]
  },
  {
   "cell_type": "code",
   "execution_count": 53,
   "metadata": {},
   "outputs": [
    {
     "data": {
      "text/plain": [
       "<matplotlib.axes._subplots.AxesSubplot at 0x7f8e9c2e3278>"
      ]
     },
     "execution_count": 53,
     "metadata": {},
     "output_type": "execute_result"
    },
    {
     "data": {
      "image/png": "[encoded data removed]",
      "text/plain": [
       "<Figure size 864x360 with 1 Axes>"
      ]
     },
     "metadata": {
      "needs_background": "light"
     },
     "output_type": "display_data"
    }
   ],
   "source": [
    "fig, ax = plt.subplots(figsize=(12,5))\n",
    "data = movers_w_dist.loc[movers_w_dist['distance'] < 50000, 'distance']\n",
    "sns.distplot(data, kde=False, ax=ax, bins=100)"
   ]
  },
  {
   "cell_type": "code",
   "execution_count": 72,
   "metadata": {},
   "outputs": [
    {
     "data": {
      "text/plain": [
       "<matplotlib.axes._subplots.AxesSubplot at 0x7f8eb5c5e2e8>"
      ]
     },
     "execution_count": 72,
     "metadata": {},
     "output_type": "execute_result"
    },
    {
     "data": {
      "image/png": "[encoded data removed]",
      "text/plain": [
       "<Figure size 864x360 with 1 Axes>"
      ]
     },
     "metadata": {
      "needs_background": "light"
     },
     "output_type": "display_data"
    }
   ],
   "source": [
    "fig, ax = plt.subplots(figsize=(12,5))\n",
    "data = movers_w_dist.loc[(movers_w_dist['distance'] < 6000), 'distance']\n",
    "sns.distplot(data, kde=False, ax=ax)"
   ]
  },
  {
   "cell_type": "code",
   "execution_count": 73,
   "metadata": {},
   "outputs": [],
   "source": [
    "movers_rent = movers_w_dist[movers_w_dist['HOMEOWNERCD'] == 'R']\n",
    "movers_own = movers_w_dist[movers_w_dist['HOMEOWNERCD'] == 'H']"
   ]
  },
  {
   "cell_type": "code",
   "execution_count": 100,
   "metadata": {},
   "outputs": [
    {
     "name": "stderr",
     "output_type": "stream",
     "text": [
      "/home/max/anaconda3/envs/infutor/lib/python3.7/site-packages/matplotlib/cbook/__init__.py:1725: UserWarning: Saw kwargs ['c', 'color'] which are all aliases for 'color'.  Kept value from 'color'\n",
      "  seen=seen, canon=canonical, used=seen[-1]))\n",
      "/home/max/anaconda3/envs/infutor/lib/python3.7/site-packages/matplotlib/cbook/__init__.py:1725: UserWarning: Saw kwargs ['c', 'color'] which are all aliases for 'color'.  Kept value from 'color'\n",
      "  seen=seen, canon=canonical, used=seen[-1]))\n"
     ]
    },
    {
     "data": {
      "text/plain": [
       "(-5000, 100000)"
      ]
     },
     "execution_count": 100,
     "metadata": {},
     "output_type": "execute_result"
    },
    {
     "data": {
      "image/png": "[encoded data removed]",
      "text/plain": [
       "<Figure size 864x360 with 1 Axes>"
      ]
     },
     "metadata": {
      "needs_background": "light"
     },
     "output_type": "display_data"
    }
   ],
   "source": [
    "fig, ax = plt.subplots(figsize=(12,5))\n",
    "sns.kdeplot(movers_own['distance'], ax=ax, label='own', c='r')\n",
    "sns.kdeplot(movers_rent['distance'], ax=ax, label='rent', c='b')\n",
    "ax.axvline(movers_own['distance'].median(), 0, 1, linewidth=1, c='r', linestyle='--', label='median - own')\n",
    "ax.axvline(movers_rent['distance'].median(), 0, 1, linewidth=1, c='b', linestyle=':', label='median - rent')\n",
    "ax.legend()\n",
    "ax.set_xlim(-5000, 100000)"
   ]
  },
  {
   "cell_type": "code",
   "execution_count": 105,
   "metadata": {},
   "outputs": [
    {
     "name": "stderr",
     "output_type": "stream",
     "text": [
      "/home/max/anaconda3/envs/infutor/lib/python3.7/site-packages/matplotlib/cbook/__init__.py:1725: UserWarning: Saw kwargs ['c', 'color'] which are all aliases for 'color'.  Kept value from 'color'\n",
      "  seen=seen, canon=canonical, used=seen[-1]))\n",
      "/home/max/anaconda3/envs/infutor/lib/python3.7/site-packages/matplotlib/cbook/__init__.py:1725: UserWarning: Saw kwargs ['c', 'color'] which are all aliases for 'color'.  Kept value from 'color'\n",
      "  seen=seen, canon=canonical, used=seen[-1]))\n"
     ]
    },
    {
     "data": {
      "text/plain": [
       "<matplotlib.legend.Legend at 0x7f8ebab6b630>"
      ]
     },
     "execution_count": 105,
     "metadata": {},
     "output_type": "execute_result"
    },
    {
     "data": {
      "image/png": "[encoded data removed]",
      "text/plain": [
       "<Figure size 864x360 with 1 Axes>"
      ]
     },
     "metadata": {
      "needs_background": "light"
     },
     "output_type": "display_data"
    }
   ],
   "source": [
    "fig, ax = plt.subplots(figsize=(12,5))\n",
    "sns.kdeplot(movers_own['distance'][movers_own['distance'] < 10000], ax=ax, label='own', c='r')\n",
    "sns.kdeplot(movers_rent['distance'][movers_rent['distance'] < 10000], ax=ax, label='rent', c='b')\n",
    "ax.axvline(movers_own['distance'].median(), 0, 1, linewidth=1, c='r', linestyle='--', label='median - own')\n",
    "ax.axvline(movers_rent['distance'].median(), 0, 1, linewidth=1, c='b', linestyle=':', label='median - rent')\n",
    "ax.legend()\n",
    "# ax.set_xlim(-5000, 10000)"
   ]
  }
 ],
 "metadata": {
  "kernelspec": {
   "display_name": "Python 3",
   "language": "python",
   "name": "python3"
  },
  "language_info": {
   "codemirror_mode": {
    "name": "ipython",
    "version": 3
   },
   "file_extension": ".py",
   "mimetype": "text/x-python",
   "name": "python",
   "nbconvert_exporter": "python",
   "pygments_lexer": "ipython3",
   "version": "3.7.1"
  }
 },
 "nbformat": 4,
 "nbformat_minor": 2
}
