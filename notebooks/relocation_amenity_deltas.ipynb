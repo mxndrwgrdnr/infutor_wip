{
 "cells": [
  {
   "cell_type": "markdown",
   "metadata": {},
   "source": [
    "Land use amenities to get:\n",
    "- [x] % white: DP05_0037PE\n",
    "- [x] median home value: B25077_001E\n",
    "- [x] median # rooms: B25018_001E\n",
    "- [ ] transit access\n",
    "- [x] access to jobs\n",
    "- [x] median income: B06011_001E\n",
    "- [x] median life expectancy\n",
    "- [x] % bach degree: S1501_C02_012E\n",
    "- [ ] avg lot size\n",
    "- [x] % poverty: S1701_C03_001E"
   ]
  },
  {
   "cell_type": "code",
   "execution_count": 268,
   "metadata": {},
   "outputs": [],
   "source": [
    "import pandas as pd\n",
    "import dask.dataframe as dd\n",
    "from census import Census\n",
    "import requests\n",
    "import pandana as pdna\n",
    "%matplotlib inline"
   ]
  },
  {
   "cell_type": "markdown",
   "metadata": {},
   "source": [
    "### Load Land Use Data"
   ]
  },
  {
   "cell_type": "markdown",
   "metadata": {},
   "source": [
    "MTC Data"
   ]
  },
  {
   "cell_type": "code",
   "execution_count": 347,
   "metadata": {},
   "outputs": [
    {
     "name": "stderr",
     "output_type": "stream",
     "text": [
      "/home/ubuntu/anaconda3/envs/infutor/lib/python3.7/site-packages/numpy/lib/arraysetops.py:568: FutureWarning: elementwise comparison failed; returning scalar instead, but in the future will perform elementwise comparison\n",
      "  mask |= (ar1 == a)\n"
     ]
    }
   ],
   "source": [
    "parcels = pd.read_csv('../data/parcels.csv', dtype={'block_id':str}, index_col='primary_id')\n",
    "nodes = pd.read_csv('../data/drive_nodes.csv').set_index('osmid')\n",
    "edges = pd.read_csv('../data/drive_edges.csv').set_index('uniqueid')\n",
    "access_vars = pd.read_csv('../data/drive_net_vars.csv')"
   ]
  },
  {
   "cell_type": "code",
   "execution_count": 269,
   "metadata": {},
   "outputs": [],
   "source": [
    "net = pdna.Network(\n",
    "            nodes.x, nodes.y, edges.u,\n",
    "            edges.v, edges[['length']],\n",
    "            twoway=False)"
   ]
  },
  {
   "cell_type": "code",
   "execution_count": 348,
   "metadata": {},
   "outputs": [],
   "source": [
    "parcels['node_id'] = net.get_node_ids(parcels.x, parcels.y)"
   ]
  },
  {
   "cell_type": "code",
   "execution_count": 349,
   "metadata": {},
   "outputs": [],
   "source": [
    "parcels = pd.merge(parcels, access_vars, left_on='node_id', right_on='osmid')"
   ]
  },
  {
   "cell_type": "code",
   "execution_count": 350,
   "metadata": {},
   "outputs": [],
   "source": [
    "parcels['tract_id'] = parcels['block_id'].str[:11]"
   ]
  },
  {
   "cell_type": "code",
   "execution_count": 351,
   "metadata": {},
   "outputs": [],
   "source": [
    "parcels = parcels[['tract_id', 'acres', 'jobs_10000', 'pop_jobs_ratio_10000']]"
   ]
  },
  {
   "cell_type": "code",
   "execution_count": 381,
   "metadata": {},
   "outputs": [],
   "source": [
    "parcels_jobs_access = parcels.groupby('tract_id').median()"
   ]
  },
  {
   "cell_type": "code",
   "execution_count": 382,
   "metadata": {},
   "outputs": [],
   "source": [
    "parcels_jobs_access.rename(columns={col: 'med_' + col for col in parcels_jobs_access.columns}, inplace=True)\n",
    "parcels_jobs_access.rename(columns={'med_acres': 'med_parcel_size'}, inplace=True)"
   ]
  },
  {
   "cell_type": "markdown",
   "metadata": {},
   "source": [
    "CDC Data"
   ]
  },
  {
   "cell_type": "code",
   "execution_count": 4,
   "metadata": {},
   "outputs": [],
   "source": [
    "life_exp = pd.read_csv('https://ftp.cdc.gov/pub/Health_Statistics/NCHS/Datasets/NVSS/USALEEP/CSV/CA_A.CSV', dtype={'Tract ID': str})"
   ]
  },
  {
   "cell_type": "code",
   "execution_count": 123,
   "metadata": {},
   "outputs": [],
   "source": [
    "life_exp.rename(columns={'Tract ID': 'tract_id', 'e(0)': 'life_exp'}, inplace=True)"
   ]
  },
  {
   "cell_type": "markdown",
   "metadata": {},
   "source": [
    "ACS Data"
   ]
  },
  {
   "cell_type": "code",
   "execution_count": 98,
   "metadata": {},
   "outputs": [],
   "source": [
    "tables_dict = {\n",
    "    'data profiles': {'suburl': '/profile', 'tables': 'DP05_0037PE'},\n",
    "    'subject tables': {'suburl': '/subject', 'tables': 'S1501_C02_012E,S1701_C03_001E'},\n",
    "    'detailed tables': {'suburl': '', 'tables': 'B25077_001E,B25018_001E,B06011_001E'}\n",
    "}\n",
    "base_url = 'https://api.census.gov/data/2017/acs/acs5{0}?get=' + \\\n",
    "    '{1}&for=tract:*&in=state:06&in=county:001,013,041,055,075,081,085,095,097'"
   ]
  },
  {
   "cell_type": "code",
   "execution_count": 372,
   "metadata": {},
   "outputs": [
    {
     "name": "stdout",
     "output_type": "stream",
     "text": [
      "Getting data from data profiles\n",
      "Getting data from subject tables\n",
      "Getting data from detailed tables\n"
     ]
    }
   ],
   "source": [
    "for table in tables_dict.keys():\n",
    "    print('Getting data from {0}'.format(table))\n",
    "    url = base_url.format(tables_dict[table]['suburl'], tables_dict[table]['tables'])\n",
    "    raw = requests.get(url)\n",
    "    df = pd.read_json(raw.content)\n",
    "    df = df[1:] #take the data less the header row\n",
    "    df.columns = raw.json()[0]\n",
    "    for col in df.columns:\n",
    "        if col not in ['state', 'county', 'tract']:\n",
    "            df[col] = df[col].astype(float)\n",
    "    tables_dict[table]['data'] = df"
   ]
  },
  {
   "cell_type": "code",
   "execution_count": 373,
   "metadata": {},
   "outputs": [],
   "source": [
    "acs_all = pd.DataFrame(columns=['state','county','tract'])"
   ]
  },
  {
   "cell_type": "code",
   "execution_count": 374,
   "metadata": {},
   "outputs": [],
   "source": [
    "for table in tables_dict.keys():\n",
    "    acs_all = pd.merge(acs_all, tables_dict[table]['data'], on=['state', 'county', 'tract'], how='right')"
   ]
  },
  {
   "cell_type": "code",
   "execution_count": 375,
   "metadata": {},
   "outputs": [],
   "source": [
    "acs_all.rename(columns={\n",
    "    'DP05_0037PE': 'pct_white', 'S1501_C02_012E': 'pct_bach', 'S1701_C03_001E': 'pct_poverty',\n",
    "    'B25077_001E': 'med_home_val', 'B25018_001E': 'med_num_rooms', 'B06011_001E': 'med_income'}, inplace=True)"
   ]
  },
  {
   "cell_type": "code",
   "execution_count": 376,
   "metadata": {},
   "outputs": [],
   "source": [
    "acs_all['tract_id'] = acs_all['state'] + acs_all['county'] + acs_all['tract']"
   ]
  },
  {
   "cell_type": "code",
   "execution_count": 377,
   "metadata": {},
   "outputs": [
    {
     "data": {
      "text/html": [
       "<div>\n",
       "<style scoped>\n",
       "    .dataframe tbody tr th:only-of-type {\n",
       "        vertical-align: middle;\n",
       "    }\n",
       "\n",
       "    .dataframe tbody tr th {\n",
       "        vertical-align: top;\n",
       "    }\n",
       "\n",
       "    .dataframe thead th {\n",
       "        text-align: right;\n",
       "    }\n",
       "</style>\n",
       "<table border=\"1\" class=\"dataframe\">\n",
       "  <thead>\n",
       "    <tr style=\"text-align: right;\">\n",
       "      <th></th>\n",
       "      <th>pct_white</th>\n",
       "      <th>state</th>\n",
       "      <th>county</th>\n",
       "      <th>tract</th>\n",
       "      <th>pct_bach</th>\n",
       "      <th>pct_poverty</th>\n",
       "      <th>med_home_val</th>\n",
       "      <th>med_num_rooms</th>\n",
       "      <th>med_income</th>\n",
       "      <th>tract_id</th>\n",
       "    </tr>\n",
       "  </thead>\n",
       "  <tbody>\n",
       "    <tr>\n",
       "      <td>0</td>\n",
       "      <td>79.6</td>\n",
       "      <td>06</td>\n",
       "      <td>081</td>\n",
       "      <td>612500</td>\n",
       "      <td>40.4</td>\n",
       "      <td>6.9</td>\n",
       "      <td>1854600.0</td>\n",
       "      <td>4.4</td>\n",
       "      <td>73762.0</td>\n",
       "      <td>06081612500</td>\n",
       "    </tr>\n",
       "    <tr>\n",
       "      <td>1</td>\n",
       "      <td>83.2</td>\n",
       "      <td>06</td>\n",
       "      <td>081</td>\n",
       "      <td>613501</td>\n",
       "      <td>20.8</td>\n",
       "      <td>3.0</td>\n",
       "      <td>798700.0</td>\n",
       "      <td>5.9</td>\n",
       "      <td>36394.0</td>\n",
       "      <td>06081613501</td>\n",
       "    </tr>\n",
       "    <tr>\n",
       "      <td>2</td>\n",
       "      <td>46.9</td>\n",
       "      <td>06</td>\n",
       "      <td>081</td>\n",
       "      <td>610201</td>\n",
       "      <td>15.9</td>\n",
       "      <td>24.0</td>\n",
       "      <td>722600.0</td>\n",
       "      <td>3.1</td>\n",
       "      <td>24035.0</td>\n",
       "      <td>06081610201</td>\n",
       "    </tr>\n",
       "    <tr>\n",
       "      <td>3</td>\n",
       "      <td>46.3</td>\n",
       "      <td>06</td>\n",
       "      <td>081</td>\n",
       "      <td>610202</td>\n",
       "      <td>19.5</td>\n",
       "      <td>26.3</td>\n",
       "      <td>342100.0</td>\n",
       "      <td>2.9</td>\n",
       "      <td>26061.0</td>\n",
       "      <td>06081610202</td>\n",
       "    </tr>\n",
       "    <tr>\n",
       "      <td>4</td>\n",
       "      <td>43.8</td>\n",
       "      <td>06</td>\n",
       "      <td>081</td>\n",
       "      <td>610303</td>\n",
       "      <td>36.2</td>\n",
       "      <td>3.5</td>\n",
       "      <td>1232800.0</td>\n",
       "      <td>5.7</td>\n",
       "      <td>104221.0</td>\n",
       "      <td>06081610303</td>\n",
       "    </tr>\n",
       "  </tbody>\n",
       "</table>\n",
       "</div>"
      ],
      "text/plain": [
       "   pct_white state county   tract  pct_bach  pct_poverty  med_home_val  \\\n",
       "0       79.6    06    081  612500      40.4          6.9     1854600.0   \n",
       "1       83.2    06    081  613501      20.8          3.0      798700.0   \n",
       "2       46.9    06    081  610201      15.9         24.0      722600.0   \n",
       "3       46.3    06    081  610202      19.5         26.3      342100.0   \n",
       "4       43.8    06    081  610303      36.2          3.5     1232800.0   \n",
       "\n",
       "   med_num_rooms  med_income     tract_id  \n",
       "0            4.4     73762.0  06081612500  \n",
       "1            5.9     36394.0  06081613501  \n",
       "2            3.1     24035.0  06081610201  \n",
       "3            2.9     26061.0  06081610202  \n",
       "4            5.7    104221.0  06081610303  "
      ]
     },
     "execution_count": 377,
     "metadata": {},
     "output_type": "execute_result"
    }
   ],
   "source": [
    "acs_all.head()"
   ]
  },
  {
   "cell_type": "code",
   "execution_count": 383,
   "metadata": {},
   "outputs": [],
   "source": [
    "land_use = pd.merge(acs_all, life_exp[['tract_id','life_exp']], on='tract_id')"
   ]
  },
  {
   "cell_type": "code",
   "execution_count": 384,
   "metadata": {},
   "outputs": [],
   "source": [
    "land_use = pd.merge(land_use, parcels_jobs_access, on='tract_id')"
   ]
  },
  {
   "cell_type": "code",
   "execution_count": 385,
   "metadata": {},
   "outputs": [
    {
     "data": {
      "text/html": [
       "<div>\n",
       "<style scoped>\n",
       "    .dataframe tbody tr th:only-of-type {\n",
       "        vertical-align: middle;\n",
       "    }\n",
       "\n",
       "    .dataframe tbody tr th {\n",
       "        vertical-align: top;\n",
       "    }\n",
       "\n",
       "    .dataframe thead th {\n",
       "        text-align: right;\n",
       "    }\n",
       "</style>\n",
       "<table border=\"1\" class=\"dataframe\">\n",
       "  <thead>\n",
       "    <tr style=\"text-align: right;\">\n",
       "      <th></th>\n",
       "      <th>pct_white</th>\n",
       "      <th>state</th>\n",
       "      <th>county</th>\n",
       "      <th>tract</th>\n",
       "      <th>pct_bach</th>\n",
       "      <th>pct_poverty</th>\n",
       "      <th>med_home_val</th>\n",
       "      <th>med_num_rooms</th>\n",
       "      <th>med_income</th>\n",
       "      <th>tract_id</th>\n",
       "      <th>life_exp</th>\n",
       "      <th>med_parcel_size</th>\n",
       "      <th>med_jobs_10000</th>\n",
       "      <th>med_pop_jobs_ratio_10000</th>\n",
       "    </tr>\n",
       "  </thead>\n",
       "  <tbody>\n",
       "    <tr>\n",
       "      <td>0</td>\n",
       "      <td>79.6</td>\n",
       "      <td>06</td>\n",
       "      <td>081</td>\n",
       "      <td>612500</td>\n",
       "      <td>40.4</td>\n",
       "      <td>6.9</td>\n",
       "      <td>1854600.0</td>\n",
       "      <td>4.4</td>\n",
       "      <td>73762.0</td>\n",
       "      <td>06081612500</td>\n",
       "      <td>84.9</td>\n",
       "      <td>0.186643</td>\n",
       "      <td>125491.0</td>\n",
       "      <td>1.841444</td>\n",
       "    </tr>\n",
       "    <tr>\n",
       "      <td>1</td>\n",
       "      <td>83.2</td>\n",
       "      <td>06</td>\n",
       "      <td>081</td>\n",
       "      <td>613501</td>\n",
       "      <td>20.8</td>\n",
       "      <td>3.0</td>\n",
       "      <td>798700.0</td>\n",
       "      <td>5.9</td>\n",
       "      <td>36394.0</td>\n",
       "      <td>06081613501</td>\n",
       "      <td>83.4</td>\n",
       "      <td>0.165552</td>\n",
       "      <td>4455.0</td>\n",
       "      <td>4.186083</td>\n",
       "    </tr>\n",
       "    <tr>\n",
       "      <td>2</td>\n",
       "      <td>46.9</td>\n",
       "      <td>06</td>\n",
       "      <td>081</td>\n",
       "      <td>610201</td>\n",
       "      <td>15.9</td>\n",
       "      <td>24.0</td>\n",
       "      <td>722600.0</td>\n",
       "      <td>3.1</td>\n",
       "      <td>24035.0</td>\n",
       "      <td>06081610201</td>\n",
       "      <td>80.6</td>\n",
       "      <td>0.117455</td>\n",
       "      <td>124924.0</td>\n",
       "      <td>1.822110</td>\n",
       "    </tr>\n",
       "    <tr>\n",
       "      <td>3</td>\n",
       "      <td>46.3</td>\n",
       "      <td>06</td>\n",
       "      <td>081</td>\n",
       "      <td>610202</td>\n",
       "      <td>19.5</td>\n",
       "      <td>26.3</td>\n",
       "      <td>342100.0</td>\n",
       "      <td>2.9</td>\n",
       "      <td>26061.0</td>\n",
       "      <td>06081610202</td>\n",
       "      <td>77.4</td>\n",
       "      <td>0.232760</td>\n",
       "      <td>127551.0</td>\n",
       "      <td>1.784548</td>\n",
       "    </tr>\n",
       "    <tr>\n",
       "      <td>4</td>\n",
       "      <td>43.8</td>\n",
       "      <td>06</td>\n",
       "      <td>081</td>\n",
       "      <td>610303</td>\n",
       "      <td>36.2</td>\n",
       "      <td>3.5</td>\n",
       "      <td>1232800.0</td>\n",
       "      <td>5.7</td>\n",
       "      <td>104221.0</td>\n",
       "      <td>06081610303</td>\n",
       "      <td>81.2</td>\n",
       "      <td>0.102423</td>\n",
       "      <td>93585.0</td>\n",
       "      <td>1.582513</td>\n",
       "    </tr>\n",
       "  </tbody>\n",
       "</table>\n",
       "</div>"
      ],
      "text/plain": [
       "   pct_white state county   tract  pct_bach  pct_poverty  med_home_val  \\\n",
       "0       79.6    06    081  612500      40.4          6.9     1854600.0   \n",
       "1       83.2    06    081  613501      20.8          3.0      798700.0   \n",
       "2       46.9    06    081  610201      15.9         24.0      722600.0   \n",
       "3       46.3    06    081  610202      19.5         26.3      342100.0   \n",
       "4       43.8    06    081  610303      36.2          3.5     1232800.0   \n",
       "\n",
       "   med_num_rooms  med_income     tract_id  life_exp  med_parcel_size  \\\n",
       "0            4.4     73762.0  06081612500      84.9         0.186643   \n",
       "1            5.9     36394.0  06081613501      83.4         0.165552   \n",
       "2            3.1     24035.0  06081610201      80.6         0.117455   \n",
       "3            2.9     26061.0  06081610202      77.4         0.232760   \n",
       "4            5.7    104221.0  06081610303      81.2         0.102423   \n",
       "\n",
       "   med_jobs_10000  med_pop_jobs_ratio_10000  \n",
       "0        125491.0                  1.841444  \n",
       "1          4455.0                  4.186083  \n",
       "2        124924.0                  1.822110  \n",
       "3        127551.0                  1.784548  \n",
       "4         93585.0                  1.582513  "
      ]
     },
     "execution_count": 385,
     "metadata": {},
     "output_type": "execute_result"
    }
   ],
   "source": [
    "land_use.head()"
   ]
  },
  {
   "cell_type": "markdown",
   "metadata": {},
   "source": [
    "### Load mover data"
   ]
  },
  {
   "cell_type": "code",
   "execution_count": 386,
   "metadata": {},
   "outputs": [],
   "source": [
    "movers = pd.read_csv('../data/movers.csv', index_col=0, dtype={\n",
    "    'PROP_FIPSCD_from': str, 'PROP_CENSUSTRACT_from': str, 'PROP_FIPSCD_to': str, 'PROP_CENSUSTRACT_to': str})"
   ]
  },
  {
   "cell_type": "code",
   "execution_count": 387,
   "metadata": {},
   "outputs": [],
   "source": [
    "movers = movers[(movers['to_effdate'] > 201012) & (movers['to_effdate'] < 201901)]"
   ]
  },
  {
   "cell_type": "code",
   "execution_count": 388,
   "metadata": {},
   "outputs": [],
   "source": [
    "movers['block_id_from'] = movers['PROP_FIPSCD_from'] + movers['PROP_CENSUSTRACT_from']\n",
    "movers['tract_id_from'] = movers['block_id_from'].str[:11]\n",
    "movers['block_id_to'] = movers['PROP_FIPSCD_to'] + movers['PROP_CENSUSTRACT_to']\n",
    "movers['tract_id_to'] = movers['block_id_to'].str[:11]"
   ]
  },
  {
   "cell_type": "markdown",
   "metadata": {},
   "source": [
    "### Merge moves on \"from\" land use"
   ]
  },
  {
   "cell_type": "code",
   "execution_count": 389,
   "metadata": {},
   "outputs": [],
   "source": [
    "movers = pd.merge(movers, land_use, left_on='tract_id_from', right_on='tract_id')\n",
    "movers = pd.merge(movers, land_use, left_on='tract_id_to', right_on='tract_id', suffixes=('_from', '_to'))"
   ]
  },
  {
   "cell_type": "markdown",
   "metadata": {},
   "source": [
    "### Compute deltas"
   ]
  },
  {
   "cell_type": "markdown",
   "metadata": {},
   "source": [
    "#### infutor data"
   ]
  },
  {
   "cell_type": "code",
   "execution_count": 390,
   "metadata": {},
   "outputs": [],
   "source": [
    "# property quality\n",
    "movers['qlty_decrease'] = 0\n",
    "movers.loc[\n",
    "    (movers['PROP_QLTY_from'] == 'QLU') &\n",
    "    (movers['PROP_QLTY_to'].isin(['QEX', 'QGO', 'QAV', 'QFA', 'QPO'])), 'qlty_decrease'] = 1\n",
    "movers.loc[\n",
    "    (movers['PROP_QLTY_from'] == 'QEX') &\n",
    "    (movers['PROP_QLTY_to'].isin(['QGO', 'QAV', 'QFA', 'QPO'])), 'qlty_decrease'] = 1\n",
    "movers.loc[\n",
    "    (movers['PROP_QLTY_from'] == 'QGO') &\n",
    "    (movers['PROP_QLTY_to'].isin(['QAV', 'QFA', 'QPO'])), 'qlty_decrease'] = 1\n",
    "movers.loc[\n",
    "    (movers['PROP_QLTY_from'] == 'QAV') &\n",
    "    (movers['PROP_QLTY_to'].isin(['QFA', 'QPO'])), 'qlty_decrease'] = 1\n",
    "movers.loc[\n",
    "    (movers['PROP_QLTY_from'] == 'QFA') &\n",
    "    (movers['PROP_QLTY_to'].isin(['QPO'])), 'qlty_decrease'] = 1\n",
    "\n",
    "# property value\n",
    "movers['prop_val_pct_chg'] = (movers['PROP_VALCALC_to'] - movers['PROP_VALCALC_from']) / movers['PROP_VALCALC_from']\n",
    "\n",
    "# property size\n",
    "movers['prop_size_pct_chg'] = (\n",
    "    movers['PROP_UNVBLDSQFT_to'] - movers['PROP_UNVBLDSQFT_from']) / movers['PROP_UNVBLDSQFT_from']\n",
    "\n",
    "# bedrooms\n",
    "movers['bedrooms_delta'] = movers['PROP_BEDRMS_to'] - movers['PROP_BEDRMS_from']"
   ]
  },
  {
   "cell_type": "markdown",
   "metadata": {},
   "source": [
    "#### acs data"
   ]
  },
  {
   "cell_type": "code",
   "execution_count": 391,
   "metadata": {},
   "outputs": [],
   "source": [
    "movers['pct_white_delta'] = movers['pct_white_to'] - movers['pct_white_from']\n",
    "movers['pct_bach_delta'] = movers['pct_bach_to'] - movers['pct_bach_from']\n",
    "movers['pct_poverty_delta'] = movers['pct_poverty_to'] - movers['pct_poverty_from']\n",
    "movers['med_home_val_pct_diff'] = (\n",
    "    movers['med_home_val_to'] - movers['med_home_val_from']) / movers['med_home_val_from']\n",
    "movers['med_num_rooms_delta'] = movers['med_num_rooms_to'] - movers['med_num_rooms_from']\n",
    "movers['med_income_pct_diff'] = (movers['med_income_to'] - movers['med_income_from']) / movers['med_income_from']\n",
    "movers['life_exp_delta'] = movers['life_exp_to'] - movers['life_exp_from']"
   ]
  },
  {
   "cell_type": "markdown",
   "metadata": {},
   "source": [
    "#### mtc data"
   ]
  },
  {
   "cell_type": "code",
   "execution_count": 393,
   "metadata": {},
   "outputs": [],
   "source": [
    "movers['jobs_10km_pct_diff'] = (movers['med_jobs_10000_to'] - movers['med_jobs_10000_from']) / movers['med_jobs_10000_from']\n",
    "movers['pop_jobs_ratio_delta'] = movers['med_pop_jobs_ratio_10000_to'] - movers['med_pop_jobs_ratio_10000_from']\n",
    "movers['med_parcel_size_pct_diff'] = (movers['med_parcel_size_to'] - movers['med_parcel_size_from']) / movers['med_parcel_size_from']"
   ]
  },
  {
   "cell_type": "markdown",
   "metadata": {},
   "source": [
    "### Save data"
   ]
  },
  {
   "cell_type": "code",
   "execution_count": 394,
   "metadata": {},
   "outputs": [],
   "source": [
    "movers.to_csv('../data/movers_2010_processed.csv')"
   ]
  }
 ],
 "metadata": {
  "kernelspec": {
   "display_name": "Python [conda env:infutor]",
   "language": "python",
   "name": "conda-env-infutor-py"
  },
  "language_info": {
   "codemirror_mode": {
    "name": "ipython",
    "version": 3
   },
   "file_extension": ".py",
   "mimetype": "text/x-python",
   "name": "python",
   "nbconvert_exporter": "python",
   "pygments_lexer": "ipython3",
   "version": "3.7.3"
  }
 },
 "nbformat": 4,
 "nbformat_minor": 2
}
