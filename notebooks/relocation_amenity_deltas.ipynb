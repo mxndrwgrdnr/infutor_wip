{
 "cells": [
  {
   "cell_type": "markdown",
   "metadata": {},
   "source": [
    "Land use amenities to get:\n",
    "- [x] % white: DP05_0037PE\n",
    "- [x] median home value: B25077_001E\n",
    "- [x] median # rooms: B25018_001E\n",
    "- [ ] transit access\n",
    "- [x] access to jobs\n",
    "- [x] median income: B06011_001E\n",
    "- [x] median life expectancy\n",
    "- [x] % bach degree: S1501_C02_012E\n",
    "- [ ] avg lot size\n",
    "- [x] % poverty: S1701_C03_001E"
   ]
  },
  {
   "cell_type": "code",
   "execution_count": 113,
   "metadata": {},
   "outputs": [],
   "source": [
    "import pandas as pd\n",
    "import dask.dataframe as dd\n",
    "from census import Census\n",
    "import requests\n",
    "import pandana as pdna\n",
    "import geopandas as gpd\n",
    "from shapely.geometry import Point\n",
    "import numpy as np\n",
    "%matplotlib inline"
   ]
  },
  {
   "cell_type": "markdown",
   "metadata": {},
   "source": [
    "### Load Land Use Data"
   ]
  },
  {
   "cell_type": "markdown",
   "metadata": {},
   "source": [
    "Census Tract Geographies"
   ]
  },
  {
   "cell_type": "code",
   "execution_count": 92,
   "metadata": {},
   "outputs": [],
   "source": [
    "tracts = gpd.read_file('../data/tl_2017_06_tract.shp', dtype={'INTPTLAT': float, 'INTPTLON':float})"
   ]
  },
  {
   "cell_type": "code",
   "execution_count": 94,
   "metadata": {},
   "outputs": [],
   "source": [
    "tracts['centroid'] = tracts.centroid"
   ]
  },
  {
   "cell_type": "code",
   "execution_count": 95,
   "metadata": {},
   "outputs": [],
   "source": [
    "tracts = tracts[['GEOID', 'ALAND', 'centroid']]"
   ]
  },
  {
   "cell_type": "markdown",
   "metadata": {},
   "source": [
    "MTC Data"
   ]
  },
  {
   "cell_type": "code",
   "execution_count": 2,
   "metadata": {},
   "outputs": [
    {
     "name": "stderr",
     "output_type": "stream",
     "text": [
      "/home/ubuntu/anaconda3/envs/infutor/lib/python3.7/site-packages/numpy/lib/arraysetops.py:568: FutureWarning: elementwise comparison failed; returning scalar instead, but in the future will perform elementwise comparison\n",
      "  mask |= (ar1 == a)\n"
     ]
    }
   ],
   "source": [
    "parcels = pd.read_csv('../data/parcels.csv', dtype={'block_id':str}, index_col='primary_id')\n",
    "nodes = pd.read_csv('../data/drive_nodes.csv').set_index('osmid')\n",
    "edges = pd.read_csv('../data/drive_edges.csv').set_index('uniqueid')\n",
    "access_vars = pd.read_csv('../data/drive_net_vars.csv')"
   ]
  },
  {
   "cell_type": "code",
   "execution_count": 3,
   "metadata": {},
   "outputs": [],
   "source": [
    "net = pdna.Network(\n",
    "            nodes.x, nodes.y, edges.u,\n",
    "            edges.v, edges[['length']],\n",
    "            twoway=False)"
   ]
  },
  {
   "cell_type": "code",
   "execution_count": 4,
   "metadata": {},
   "outputs": [],
   "source": [
    "parcels['node_id'] = net.get_node_ids(parcels.x, parcels.y)"
   ]
  },
  {
   "cell_type": "code",
   "execution_count": 5,
   "metadata": {},
   "outputs": [],
   "source": [
    "parcels = pd.merge(parcels, access_vars, left_on='node_id', right_on='osmid')"
   ]
  },
  {
   "cell_type": "code",
   "execution_count": 6,
   "metadata": {},
   "outputs": [],
   "source": [
    "parcels['tract_id'] = parcels['block_id'].str[:11]"
   ]
  },
  {
   "cell_type": "code",
   "execution_count": 7,
   "metadata": {},
   "outputs": [],
   "source": [
    "parcels = parcels[['tract_id', 'acres', 'jobs_10000', 'pop_jobs_ratio_10000']]"
   ]
  },
  {
   "cell_type": "code",
   "execution_count": 8,
   "metadata": {},
   "outputs": [],
   "source": [
    "parcels_jobs_access = parcels.groupby('tract_id').median()"
   ]
  },
  {
   "cell_type": "code",
   "execution_count": 9,
   "metadata": {},
   "outputs": [],
   "source": [
    "parcels_jobs_access.rename(columns={col: 'med_' + col for col in parcels_jobs_access.columns}, inplace=True)\n",
    "parcels_jobs_access.rename(columns={'med_acres': 'med_parcel_size'}, inplace=True)"
   ]
  },
  {
   "cell_type": "markdown",
   "metadata": {},
   "source": [
    "CDC Data"
   ]
  },
  {
   "cell_type": "code",
   "execution_count": 10,
   "metadata": {},
   "outputs": [],
   "source": [
    "life_exp = pd.read_csv('https://ftp.cdc.gov/pub/Health_Statistics/NCHS/Datasets/NVSS/USALEEP/CSV/CA_A.CSV', dtype={'Tract ID': str})"
   ]
  },
  {
   "cell_type": "code",
   "execution_count": 11,
   "metadata": {},
   "outputs": [],
   "source": [
    "life_exp.rename(columns={'Tract ID': 'tract_id', 'e(0)': 'life_exp'}, inplace=True)"
   ]
  },
  {
   "cell_type": "markdown",
   "metadata": {},
   "source": [
    "ACS Data"
   ]
  },
  {
   "cell_type": "code",
   "execution_count": 12,
   "metadata": {},
   "outputs": [],
   "source": [
    "tables_dict = {\n",
    "    'data profiles': {'suburl': '/profile', 'tables': 'DP05_0037PE'},\n",
    "    'subject tables': {'suburl': '/subject', 'tables': 'S1501_C02_012E,S1701_C03_001E'},\n",
    "    'detailed tables': {'suburl': '', 'tables': 'B25077_001E,B25018_001E,B06011_001E'}\n",
    "}\n",
    "base_url = 'https://api.census.gov/data/2017/acs/acs5{0}?get=' + \\\n",
    "    '{1}&for=tract:*&in=state:06&in=county:001,013,041,055,075,081,085,095,097'"
   ]
  },
  {
   "cell_type": "code",
   "execution_count": 13,
   "metadata": {},
   "outputs": [
    {
     "name": "stdout",
     "output_type": "stream",
     "text": [
      "Getting data from data profiles\n",
      "Getting data from subject tables\n",
      "Getting data from detailed tables\n"
     ]
    }
   ],
   "source": [
    "for table in tables_dict.keys():\n",
    "    print('Getting data from {0}'.format(table))\n",
    "    url = base_url.format(tables_dict[table]['suburl'], tables_dict[table]['tables'])\n",
    "    raw = requests.get(url)\n",
    "    df = pd.read_json(raw.content)\n",
    "    df = df[1:] #take the data less the header row\n",
    "    df.columns = raw.json()[0]\n",
    "    for col in df.columns:\n",
    "        if col not in ['state', 'county', 'tract']:\n",
    "            df[col] = df[col].astype(float)\n",
    "    tables_dict[table]['data'] = df"
   ]
  },
  {
   "cell_type": "code",
   "execution_count": 14,
   "metadata": {},
   "outputs": [],
   "source": [
    "acs_all = pd.DataFrame(columns=['state','county','tract'])"
   ]
  },
  {
   "cell_type": "code",
   "execution_count": 15,
   "metadata": {},
   "outputs": [],
   "source": [
    "for table in tables_dict.keys():\n",
    "    acs_all = pd.merge(acs_all, tables_dict[table]['data'], on=['state', 'county', 'tract'], how='right')"
   ]
  },
  {
   "cell_type": "code",
   "execution_count": 16,
   "metadata": {},
   "outputs": [],
   "source": [
    "acs_all.rename(columns={\n",
    "    'DP05_0037PE': 'pct_white', 'S1501_C02_012E': 'pct_bach', 'S1701_C03_001E': 'pct_poverty',\n",
    "    'B25077_001E': 'med_home_val', 'B25018_001E': 'med_num_rooms', 'B06011_001E': 'med_income'}, inplace=True)"
   ]
  },
  {
   "cell_type": "code",
   "execution_count": 22,
   "metadata": {},
   "outputs": [],
   "source": [
    "acs_all['tract_id'] = acs_all['state'] + acs_all['county'] + acs_all['tract']\n",
    "acs_all.drop(columns=['state','county','tract'], inplace=True)"
   ]
  },
  {
   "cell_type": "code",
   "execution_count": 23,
   "metadata": {},
   "outputs": [
    {
     "data": {
      "text/html": [
       "<div>\n",
       "<style scoped>\n",
       "    .dataframe tbody tr th:only-of-type {\n",
       "        vertical-align: middle;\n",
       "    }\n",
       "\n",
       "    .dataframe tbody tr th {\n",
       "        vertical-align: top;\n",
       "    }\n",
       "\n",
       "    .dataframe thead th {\n",
       "        text-align: right;\n",
       "    }\n",
       "</style>\n",
       "<table border=\"1\" class=\"dataframe\">\n",
       "  <thead>\n",
       "    <tr style=\"text-align: right;\">\n",
       "      <th></th>\n",
       "      <th>pct_white</th>\n",
       "      <th>pct_bach</th>\n",
       "      <th>pct_poverty</th>\n",
       "      <th>med_home_val</th>\n",
       "      <th>med_num_rooms</th>\n",
       "      <th>med_income</th>\n",
       "      <th>tract_id</th>\n",
       "    </tr>\n",
       "  </thead>\n",
       "  <tbody>\n",
       "    <tr>\n",
       "      <td>0</td>\n",
       "      <td>79.6</td>\n",
       "      <td>40.4</td>\n",
       "      <td>6.9</td>\n",
       "      <td>1854600.0</td>\n",
       "      <td>4.4</td>\n",
       "      <td>73762.0</td>\n",
       "      <td>06081612500</td>\n",
       "    </tr>\n",
       "    <tr>\n",
       "      <td>1</td>\n",
       "      <td>83.2</td>\n",
       "      <td>20.8</td>\n",
       "      <td>3.0</td>\n",
       "      <td>798700.0</td>\n",
       "      <td>5.9</td>\n",
       "      <td>36394.0</td>\n",
       "      <td>06081613501</td>\n",
       "    </tr>\n",
       "    <tr>\n",
       "      <td>2</td>\n",
       "      <td>46.9</td>\n",
       "      <td>15.9</td>\n",
       "      <td>24.0</td>\n",
       "      <td>722600.0</td>\n",
       "      <td>3.1</td>\n",
       "      <td>24035.0</td>\n",
       "      <td>06081610201</td>\n",
       "    </tr>\n",
       "    <tr>\n",
       "      <td>3</td>\n",
       "      <td>46.3</td>\n",
       "      <td>19.5</td>\n",
       "      <td>26.3</td>\n",
       "      <td>342100.0</td>\n",
       "      <td>2.9</td>\n",
       "      <td>26061.0</td>\n",
       "      <td>06081610202</td>\n",
       "    </tr>\n",
       "    <tr>\n",
       "      <td>4</td>\n",
       "      <td>43.8</td>\n",
       "      <td>36.2</td>\n",
       "      <td>3.5</td>\n",
       "      <td>1232800.0</td>\n",
       "      <td>5.7</td>\n",
       "      <td>104221.0</td>\n",
       "      <td>06081610303</td>\n",
       "    </tr>\n",
       "  </tbody>\n",
       "</table>\n",
       "</div>"
      ],
      "text/plain": [
       "   pct_white  pct_bach  pct_poverty  med_home_val  med_num_rooms  med_income  \\\n",
       "0       79.6      40.4          6.9     1854600.0            4.4     73762.0   \n",
       "1       83.2      20.8          3.0      798700.0            5.9     36394.0   \n",
       "2       46.9      15.9         24.0      722600.0            3.1     24035.0   \n",
       "3       46.3      19.5         26.3      342100.0            2.9     26061.0   \n",
       "4       43.8      36.2          3.5     1232800.0            5.7    104221.0   \n",
       "\n",
       "      tract_id  \n",
       "0  06081612500  \n",
       "1  06081613501  \n",
       "2  06081610201  \n",
       "3  06081610202  \n",
       "4  06081610303  "
      ]
     },
     "execution_count": 23,
     "metadata": {},
     "output_type": "execute_result"
    }
   ],
   "source": [
    "acs_all.head()"
   ]
  },
  {
   "cell_type": "code",
   "execution_count": 101,
   "metadata": {},
   "outputs": [],
   "source": [
    "land_use = pd.merge(acs_all, life_exp[['tract_id','life_exp']], on='tract_id')"
   ]
  },
  {
   "cell_type": "code",
   "execution_count": 102,
   "metadata": {},
   "outputs": [],
   "source": [
    "land_use = pd.merge(land_use, parcels_jobs_access, on='tract_id')"
   ]
  },
  {
   "cell_type": "code",
   "execution_count": 103,
   "metadata": {},
   "outputs": [],
   "source": [
    "land_use = pd.merge(land_use, tracts, left_on='tract_id', right_on='GEOID')"
   ]
  },
  {
   "cell_type": "markdown",
   "metadata": {},
   "source": [
    "### Create OD matrix"
   ]
  },
  {
   "cell_type": "code",
   "execution_count": 104,
   "metadata": {},
   "outputs": [],
   "source": [
    "mix = pd.MultiIndex.from_product([land_use.tract_id, land_use.tract_id], names=['from', 'to'])"
   ]
  },
  {
   "cell_type": "code",
   "execution_count": 105,
   "metadata": {},
   "outputs": [],
   "source": [
    "ods = pd.DataFrame(index=mix).reset_index()"
   ]
  },
  {
   "cell_type": "code",
   "execution_count": 106,
   "metadata": {},
   "outputs": [],
   "source": [
    "ods = ods.merge(land_use, left_on='from', right_on='tract_id')"
   ]
  },
  {
   "cell_type": "code",
   "execution_count": 107,
   "metadata": {},
   "outputs": [],
   "source": [
    "ods = ods.merge(land_use, left_on='to', right_on='tract_id', suffixes=('_from', '_to'))"
   ]
  },
  {
   "cell_type": "code",
   "execution_count": 108,
   "metadata": {},
   "outputs": [
    {
     "data": {
      "text/html": [
       "<div>\n",
       "<style scoped>\n",
       "    .dataframe tbody tr th:only-of-type {\n",
       "        vertical-align: middle;\n",
       "    }\n",
       "\n",
       "    .dataframe tbody tr th {\n",
       "        vertical-align: top;\n",
       "    }\n",
       "\n",
       "    .dataframe thead th {\n",
       "        text-align: right;\n",
       "    }\n",
       "</style>\n",
       "<table border=\"1\" class=\"dataframe\">\n",
       "  <thead>\n",
       "    <tr style=\"text-align: right;\">\n",
       "      <th></th>\n",
       "      <th>from</th>\n",
       "      <th>to</th>\n",
       "      <th>pct_white_from</th>\n",
       "      <th>pct_bach_from</th>\n",
       "      <th>pct_poverty_from</th>\n",
       "      <th>med_home_val_from</th>\n",
       "      <th>med_num_rooms_from</th>\n",
       "      <th>med_income_from</th>\n",
       "      <th>tract_id_from</th>\n",
       "      <th>life_exp_from</th>\n",
       "      <th>...</th>\n",
       "      <th>med_num_rooms_to</th>\n",
       "      <th>med_income_to</th>\n",
       "      <th>tract_id_to</th>\n",
       "      <th>life_exp_to</th>\n",
       "      <th>med_parcel_size_to</th>\n",
       "      <th>med_jobs_10000_to</th>\n",
       "      <th>med_pop_jobs_ratio_10000_to</th>\n",
       "      <th>GEOID_to</th>\n",
       "      <th>ALAND_to</th>\n",
       "      <th>centroid_to</th>\n",
       "    </tr>\n",
       "  </thead>\n",
       "  <tbody>\n",
       "    <tr>\n",
       "      <td>0</td>\n",
       "      <td>06081612500</td>\n",
       "      <td>06081612500</td>\n",
       "      <td>79.6</td>\n",
       "      <td>40.4</td>\n",
       "      <td>6.9</td>\n",
       "      <td>1854600.0</td>\n",
       "      <td>4.4</td>\n",
       "      <td>73762.0</td>\n",
       "      <td>06081612500</td>\n",
       "      <td>84.9</td>\n",
       "      <td>...</td>\n",
       "      <td>4.4</td>\n",
       "      <td>73762.0</td>\n",
       "      <td>06081612500</td>\n",
       "      <td>84.9</td>\n",
       "      <td>0.186643</td>\n",
       "      <td>125491.0</td>\n",
       "      <td>1.841444</td>\n",
       "      <td>06081612500</td>\n",
       "      <td>1993832</td>\n",
       "      <td>POINT (-122.17782 37.45570)</td>\n",
       "    </tr>\n",
       "    <tr>\n",
       "      <td>1</td>\n",
       "      <td>06081613501</td>\n",
       "      <td>06081612500</td>\n",
       "      <td>83.2</td>\n",
       "      <td>20.8</td>\n",
       "      <td>3.0</td>\n",
       "      <td>798700.0</td>\n",
       "      <td>5.9</td>\n",
       "      <td>36394.0</td>\n",
       "      <td>06081613501</td>\n",
       "      <td>83.4</td>\n",
       "      <td>...</td>\n",
       "      <td>4.4</td>\n",
       "      <td>73762.0</td>\n",
       "      <td>06081612500</td>\n",
       "      <td>84.9</td>\n",
       "      <td>0.186643</td>\n",
       "      <td>125491.0</td>\n",
       "      <td>1.841444</td>\n",
       "      <td>06081612500</td>\n",
       "      <td>1993832</td>\n",
       "      <td>POINT (-122.17782 37.45570)</td>\n",
       "    </tr>\n",
       "    <tr>\n",
       "      <td>2</td>\n",
       "      <td>06081610201</td>\n",
       "      <td>06081612500</td>\n",
       "      <td>46.9</td>\n",
       "      <td>15.9</td>\n",
       "      <td>24.0</td>\n",
       "      <td>722600.0</td>\n",
       "      <td>3.1</td>\n",
       "      <td>24035.0</td>\n",
       "      <td>06081610201</td>\n",
       "      <td>80.6</td>\n",
       "      <td>...</td>\n",
       "      <td>4.4</td>\n",
       "      <td>73762.0</td>\n",
       "      <td>06081612500</td>\n",
       "      <td>84.9</td>\n",
       "      <td>0.186643</td>\n",
       "      <td>125491.0</td>\n",
       "      <td>1.841444</td>\n",
       "      <td>06081612500</td>\n",
       "      <td>1993832</td>\n",
       "      <td>POINT (-122.17782 37.45570)</td>\n",
       "    </tr>\n",
       "    <tr>\n",
       "      <td>3</td>\n",
       "      <td>06081610202</td>\n",
       "      <td>06081612500</td>\n",
       "      <td>46.3</td>\n",
       "      <td>19.5</td>\n",
       "      <td>26.3</td>\n",
       "      <td>342100.0</td>\n",
       "      <td>2.9</td>\n",
       "      <td>26061.0</td>\n",
       "      <td>06081610202</td>\n",
       "      <td>77.4</td>\n",
       "      <td>...</td>\n",
       "      <td>4.4</td>\n",
       "      <td>73762.0</td>\n",
       "      <td>06081612500</td>\n",
       "      <td>84.9</td>\n",
       "      <td>0.186643</td>\n",
       "      <td>125491.0</td>\n",
       "      <td>1.841444</td>\n",
       "      <td>06081612500</td>\n",
       "      <td>1993832</td>\n",
       "      <td>POINT (-122.17782 37.45570)</td>\n",
       "    </tr>\n",
       "    <tr>\n",
       "      <td>4</td>\n",
       "      <td>06081610303</td>\n",
       "      <td>06081612500</td>\n",
       "      <td>43.8</td>\n",
       "      <td>36.2</td>\n",
       "      <td>3.5</td>\n",
       "      <td>1232800.0</td>\n",
       "      <td>5.7</td>\n",
       "      <td>104221.0</td>\n",
       "      <td>06081610303</td>\n",
       "      <td>81.2</td>\n",
       "      <td>...</td>\n",
       "      <td>4.4</td>\n",
       "      <td>73762.0</td>\n",
       "      <td>06081612500</td>\n",
       "      <td>84.9</td>\n",
       "      <td>0.186643</td>\n",
       "      <td>125491.0</td>\n",
       "      <td>1.841444</td>\n",
       "      <td>06081612500</td>\n",
       "      <td>1993832</td>\n",
       "      <td>POINT (-122.17782 37.45570)</td>\n",
       "    </tr>\n",
       "  </tbody>\n",
       "</table>\n",
       "<p>5 rows × 30 columns</p>\n",
       "</div>"
      ],
      "text/plain": [
       "          from           to  pct_white_from  pct_bach_from  pct_poverty_from  \\\n",
       "0  06081612500  06081612500            79.6           40.4               6.9   \n",
       "1  06081613501  06081612500            83.2           20.8               3.0   \n",
       "2  06081610201  06081612500            46.9           15.9              24.0   \n",
       "3  06081610202  06081612500            46.3           19.5              26.3   \n",
       "4  06081610303  06081612500            43.8           36.2               3.5   \n",
       "\n",
       "   med_home_val_from  med_num_rooms_from  med_income_from tract_id_from  \\\n",
       "0          1854600.0                 4.4          73762.0   06081612500   \n",
       "1           798700.0                 5.9          36394.0   06081613501   \n",
       "2           722600.0                 3.1          24035.0   06081610201   \n",
       "3           342100.0                 2.9          26061.0   06081610202   \n",
       "4          1232800.0                 5.7         104221.0   06081610303   \n",
       "\n",
       "   life_exp_from  ...  med_num_rooms_to  med_income_to  tract_id_to  \\\n",
       "0           84.9  ...               4.4        73762.0  06081612500   \n",
       "1           83.4  ...               4.4        73762.0  06081612500   \n",
       "2           80.6  ...               4.4        73762.0  06081612500   \n",
       "3           77.4  ...               4.4        73762.0  06081612500   \n",
       "4           81.2  ...               4.4        73762.0  06081612500   \n",
       "\n",
       "  life_exp_to  med_parcel_size_to med_jobs_10000_to  \\\n",
       "0        84.9            0.186643          125491.0   \n",
       "1        84.9            0.186643          125491.0   \n",
       "2        84.9            0.186643          125491.0   \n",
       "3        84.9            0.186643          125491.0   \n",
       "4        84.9            0.186643          125491.0   \n",
       "\n",
       "   med_pop_jobs_ratio_10000_to     GEOID_to  ALAND_to  \\\n",
       "0                     1.841444  06081612500   1993832   \n",
       "1                     1.841444  06081612500   1993832   \n",
       "2                     1.841444  06081612500   1993832   \n",
       "3                     1.841444  06081612500   1993832   \n",
       "4                     1.841444  06081612500   1993832   \n",
       "\n",
       "                   centroid_to  \n",
       "0  POINT (-122.17782 37.45570)  \n",
       "1  POINT (-122.17782 37.45570)  \n",
       "2  POINT (-122.17782 37.45570)  \n",
       "3  POINT (-122.17782 37.45570)  \n",
       "4  POINT (-122.17782 37.45570)  \n",
       "\n",
       "[5 rows x 30 columns]"
      ]
     },
     "execution_count": 108,
     "metadata": {},
     "output_type": "execute_result"
    }
   ],
   "source": [
    "ods.head()"
   ]
  },
  {
   "cell_type": "code",
   "execution_count": 109,
   "metadata": {},
   "outputs": [
    {
     "data": {
      "text/plain": [
       "Index(['from', 'to', 'pct_white_from', 'pct_bach_from', 'pct_poverty_from',\n",
       "       'med_home_val_from', 'med_num_rooms_from', 'med_income_from',\n",
       "       'tract_id_from', 'life_exp_from', 'med_parcel_size_from',\n",
       "       'med_jobs_10000_from', 'med_pop_jobs_ratio_10000_from', 'GEOID_from',\n",
       "       'ALAND_from', 'centroid_from', 'pct_white_to', 'pct_bach_to',\n",
       "       'pct_poverty_to', 'med_home_val_to', 'med_num_rooms_to',\n",
       "       'med_income_to', 'tract_id_to', 'life_exp_to', 'med_parcel_size_to',\n",
       "       'med_jobs_10000_to', 'med_pop_jobs_ratio_10000_to', 'GEOID_to',\n",
       "       'ALAND_to', 'centroid_to'],\n",
       "      dtype='object')"
      ]
     },
     "execution_count": 109,
     "metadata": {},
     "output_type": "execute_result"
    }
   ],
   "source": [
    "ods.columns"
   ]
  },
  {
   "cell_type": "markdown",
   "metadata": {},
   "source": [
    "### OD Deltas"
   ]
  },
  {
   "cell_type": "code",
   "execution_count": 116,
   "metadata": {},
   "outputs": [],
   "source": [
    "ods['pct_white_delta'] = ods['pct_white_to'] - ods['pct_white_from']\n",
    "ods['pct_bach_delta'] = ods['pct_bach_to'] - ods['pct_bach_from']\n",
    "ods['pct_poverty_delta'] = ods['pct_poverty_to'] - ods['pct_poverty_from']\n",
    "ods['med_home_val_pct_diff'] = (\n",
    "    ods['med_home_val_to'] - ods['med_home_val_from']) / ods['med_home_val_from']\n",
    "ods['med_num_rooms_delta'] = ods['med_num_rooms_to'] - ods['med_num_rooms_from']\n",
    "ods['med_income_pct_diff'] = (ods['med_income_to'] - ods['med_income_from']) / ods['med_income_from']\n",
    "ods['life_exp_delta'] = ods['life_exp_to'] - ods['life_exp_from']\n",
    "ods['jobs_10km_pct_diff'] = (ods['med_jobs_10000_to'] - ods['med_jobs_10000_from']) / ods['med_jobs_10000_from']\n",
    "ods['pop_jobs_ratio_delta'] = ods['med_pop_jobs_ratio_10000_to'] - ods['med_pop_jobs_ratio_10000_from']\n",
    "ods['med_parcel_size_pct_diff'] = (ods['med_parcel_size_to'] - ods['med_parcel_size_from']) / ods['med_parcel_size_from']\n",
    "\n",
    "# distance\n",
    "from_gs = gpd.GeoSeries(\n",
    "    ods['centroid_from'],\n",
    "    crs={'init': 'epsg:4326'}).to_crs(epsg='2768')\n",
    "to_gs = gpd.GeoSeries(\n",
    "    ods['centroid_to'],\n",
    "    crs={'init': 'epsg:4326'}).to_crs(epsg='2768')\n",
    "dists = from_gs.distance(to_gs)\n",
    "ods['distance'] = dists\n",
    "ods.loc[ods['from'] == ods['to'], 'distance'] = np.sqrt(ods.loc[ods['from'] == ods['to'], 'ALAND_from']) / 2"
   ]
  },
  {
   "cell_type": "code",
   "execution_count": 142,
   "metadata": {},
   "outputs": [
    {
     "data": {
      "text/html": [
       "<div>\n",
       "<style scoped>\n",
       "    .dataframe tbody tr th:only-of-type {\n",
       "        vertical-align: middle;\n",
       "    }\n",
       "\n",
       "    .dataframe tbody tr th {\n",
       "        vertical-align: top;\n",
       "    }\n",
       "\n",
       "    .dataframe thead th {\n",
       "        text-align: right;\n",
       "    }\n",
       "</style>\n",
       "<table border=\"1\" class=\"dataframe\">\n",
       "  <thead>\n",
       "    <tr style=\"text-align: right;\">\n",
       "      <th></th>\n",
       "      <th>tract_id_from</th>\n",
       "      <th>tract_id_to</th>\n",
       "      <th>pct_white_delta</th>\n",
       "      <th>pct_bach_delta</th>\n",
       "      <th>pct_poverty_delta</th>\n",
       "      <th>med_home_val_pct_diff</th>\n",
       "      <th>med_num_rooms_delta</th>\n",
       "      <th>med_income_pct_diff</th>\n",
       "      <th>life_exp_delta</th>\n",
       "      <th>jobs_10km_pct_diff</th>\n",
       "      <th>pop_jobs_ratio_delta</th>\n",
       "      <th>med_parcel_size_pct_diff</th>\n",
       "      <th>distance</th>\n",
       "    </tr>\n",
       "  </thead>\n",
       "  <tbody>\n",
       "    <tr>\n",
       "      <td>0</td>\n",
       "      <td>06081612500</td>\n",
       "      <td>06081612500</td>\n",
       "      <td>0.0</td>\n",
       "      <td>0.0</td>\n",
       "      <td>0.0</td>\n",
       "      <td>0.000000</td>\n",
       "      <td>0.0</td>\n",
       "      <td>0.000000</td>\n",
       "      <td>0.0</td>\n",
       "      <td>0.000000</td>\n",
       "      <td>0.000000</td>\n",
       "      <td>0.000000</td>\n",
       "      <td>706.015581</td>\n",
       "    </tr>\n",
       "    <tr>\n",
       "      <td>1</td>\n",
       "      <td>06081613501</td>\n",
       "      <td>06081612500</td>\n",
       "      <td>-3.6</td>\n",
       "      <td>19.6</td>\n",
       "      <td>3.9</td>\n",
       "      <td>1.322023</td>\n",
       "      <td>-1.5</td>\n",
       "      <td>1.026763</td>\n",
       "      <td>1.5</td>\n",
       "      <td>27.168575</td>\n",
       "      <td>-2.344640</td>\n",
       "      <td>0.127392</td>\n",
       "      <td>22653.899784</td>\n",
       "    </tr>\n",
       "    <tr>\n",
       "      <td>2</td>\n",
       "      <td>06081610201</td>\n",
       "      <td>06081612500</td>\n",
       "      <td>32.7</td>\n",
       "      <td>24.5</td>\n",
       "      <td>-17.1</td>\n",
       "      <td>1.566565</td>\n",
       "      <td>1.3</td>\n",
       "      <td>2.068941</td>\n",
       "      <td>4.3</td>\n",
       "      <td>0.004539</td>\n",
       "      <td>0.019333</td>\n",
       "      <td>0.589057</td>\n",
       "      <td>4533.923986</td>\n",
       "    </tr>\n",
       "    <tr>\n",
       "      <td>3</td>\n",
       "      <td>06081610202</td>\n",
       "      <td>06081612500</td>\n",
       "      <td>33.3</td>\n",
       "      <td>20.9</td>\n",
       "      <td>-19.4</td>\n",
       "      <td>4.421222</td>\n",
       "      <td>1.5</td>\n",
       "      <td>1.830360</td>\n",
       "      <td>7.5</td>\n",
       "      <td>-0.016150</td>\n",
       "      <td>0.056896</td>\n",
       "      <td>-0.198132</td>\n",
       "      <td>5925.981557</td>\n",
       "    </tr>\n",
       "    <tr>\n",
       "      <td>4</td>\n",
       "      <td>06081610303</td>\n",
       "      <td>06081612500</td>\n",
       "      <td>35.8</td>\n",
       "      <td>4.2</td>\n",
       "      <td>3.4</td>\n",
       "      <td>0.504380</td>\n",
       "      <td>-1.3</td>\n",
       "      <td>-0.292254</td>\n",
       "      <td>3.7</td>\n",
       "      <td>0.340931</td>\n",
       "      <td>0.258930</td>\n",
       "      <td>0.822274</td>\n",
       "      <td>10953.138790</td>\n",
       "    </tr>\n",
       "  </tbody>\n",
       "</table>\n",
       "</div>"
      ],
      "text/plain": [
       "  tract_id_from  tract_id_to  pct_white_delta  pct_bach_delta  \\\n",
       "0   06081612500  06081612500              0.0             0.0   \n",
       "1   06081613501  06081612500             -3.6            19.6   \n",
       "2   06081610201  06081612500             32.7            24.5   \n",
       "3   06081610202  06081612500             33.3            20.9   \n",
       "4   06081610303  06081612500             35.8             4.2   \n",
       "\n",
       "   pct_poverty_delta  med_home_val_pct_diff  med_num_rooms_delta  \\\n",
       "0                0.0               0.000000                  0.0   \n",
       "1                3.9               1.322023                 -1.5   \n",
       "2              -17.1               1.566565                  1.3   \n",
       "3              -19.4               4.421222                  1.5   \n",
       "4                3.4               0.504380                 -1.3   \n",
       "\n",
       "   med_income_pct_diff  life_exp_delta  jobs_10km_pct_diff  \\\n",
       "0             0.000000             0.0            0.000000   \n",
       "1             1.026763             1.5           27.168575   \n",
       "2             2.068941             4.3            0.004539   \n",
       "3             1.830360             7.5           -0.016150   \n",
       "4            -0.292254             3.7            0.340931   \n",
       "\n",
       "   pop_jobs_ratio_delta  med_parcel_size_pct_diff      distance  \n",
       "0              0.000000                  0.000000    706.015581  \n",
       "1             -2.344640                  0.127392  22653.899784  \n",
       "2              0.019333                  0.589057   4533.923986  \n",
       "3              0.056896                 -0.198132   5925.981557  \n",
       "4              0.258930                  0.822274  10953.138790  "
      ]
     },
     "execution_count": 142,
     "metadata": {},
     "output_type": "execute_result"
    }
   ],
   "source": [
    "ods.head()"
   ]
  },
  {
   "cell_type": "markdown",
   "metadata": {},
   "source": [
    "### Load mover data"
   ]
  },
  {
   "cell_type": "code",
   "execution_count": 119,
   "metadata": {},
   "outputs": [],
   "source": [
    "movers = pd.read_csv('../data/movers.csv', index_col=0, dtype={\n",
    "    'PROP_FIPSCD_from': str, 'PROP_CENSUSTRACT_from': str, 'PROP_FIPSCD_to': str, 'PROP_CENSUSTRACT_to': str})"
   ]
  },
  {
   "cell_type": "code",
   "execution_count": 120,
   "metadata": {},
   "outputs": [],
   "source": [
    "movers = movers[(movers['to_effdate'] > 201012) & (movers['to_effdate'] < 201901)]"
   ]
  },
  {
   "cell_type": "code",
   "execution_count": 121,
   "metadata": {},
   "outputs": [],
   "source": [
    "movers['block_id_from'] = movers['PROP_FIPSCD_from'] + movers['PROP_CENSUSTRACT_from']\n",
    "movers['tract_id_from'] = movers['block_id_from'].str[:11]\n",
    "movers['block_id_to'] = movers['PROP_FIPSCD_to'] + movers['PROP_CENSUSTRACT_to']\n",
    "movers['tract_id_to'] = movers['block_id_to'].str[:11]\n",
    "movers['unit_price_from'] = movers['PROP_VALCALC_from'] / movers['PROP_UNVBLDSQFT_from']\n",
    "movers['unit_price_to'] = movers['PROP_VALCALC_to'] / movers['PROP_UNVBLDSQFT_to']"
   ]
  },
  {
   "cell_type": "markdown",
   "metadata": {},
   "source": [
    "### Compute mover deltas"
   ]
  },
  {
   "cell_type": "code",
   "execution_count": 122,
   "metadata": {},
   "outputs": [],
   "source": [
    "# property quality\n",
    "movers['qlty_decrease'] = 0\n",
    "movers.loc[\n",
    "    (movers['PROP_QLTY_from'] == 'QLU') &\n",
    "    (movers['PROP_QLTY_to'].isin(['QEX', 'QGO', 'QAV', 'QFA', 'QPO'])), 'qlty_decrease'] = 1\n",
    "movers.loc[\n",
    "    (movers['PROP_QLTY_from'] == 'QEX') &\n",
    "    (movers['PROP_QLTY_to'].isin(['QGO', 'QAV', 'QFA', 'QPO'])), 'qlty_decrease'] = 1\n",
    "movers.loc[\n",
    "    (movers['PROP_QLTY_from'] == 'QGO') &\n",
    "    (movers['PROP_QLTY_to'].isin(['QAV', 'QFA', 'QPO'])), 'qlty_decrease'] = 1\n",
    "movers.loc[\n",
    "    (movers['PROP_QLTY_from'] == 'QAV') &\n",
    "    (movers['PROP_QLTY_to'].isin(['QFA', 'QPO'])), 'qlty_decrease'] = 1\n",
    "movers.loc[\n",
    "    (movers['PROP_QLTY_from'] == 'QFA') &\n",
    "    (movers['PROP_QLTY_to'].isin(['QPO'])), 'qlty_decrease'] = 1\n",
    "\n",
    "# property value\n",
    "movers['prop_val_pct_chg'] = (movers['PROP_VALCALC_to'] - movers['PROP_VALCALC_from']) / movers['PROP_VALCALC_from']\n",
    "\n",
    "# property size\n",
    "movers['prop_size_pct_chg'] = (\n",
    "    movers['PROP_UNVBLDSQFT_to'] - movers['PROP_UNVBLDSQFT_from']) / movers['PROP_UNVBLDSQFT_from']\n",
    "\n",
    "# unit price\n",
    "movers['price_sqft_pct_chg'] = (movers['unit_price_to'] - movers['unit_price_from']) / movers['unit_price_from']\n",
    "\n",
    "# bedrooms\n",
    "movers['bedrooms_delta'] = movers['PROP_BEDRMS_to'] - movers['PROP_BEDRMS_from']"
   ]
  },
  {
   "cell_type": "code",
   "execution_count": 123,
   "metadata": {},
   "outputs": [
    {
     "data": {
      "text/plain": [
       "Index(['from_addrid', 'from_lat', 'from_lon', 'PROP_FIPSCD_from',\n",
       "       'PROP_CENSUSTRACT_from', 'PROP_MUNINAME_from', 'PROP_OWNEROCC_from',\n",
       "       'PROP_QLTY_from', 'PROP_VALCALC_from', 'PROP_UNVBLDSQFT_from',\n",
       "       'PROP_BEDRMS_from', 'to_addrid', 'to_lat', 'to_lon', 'PROP_FIPSCD_to',\n",
       "       'PROP_CENSUSTRACT_to', 'PROP_MUNINAME_to', 'PROP_OWNEROCC_to',\n",
       "       'PROP_QLTY_to', 'PROP_VALCALC_to', 'PROP_UNVBLDSQFT_to',\n",
       "       'PROP_BEDRMS_to', 'to_effdate', 'distance', 'AGE', 'LOR', 'HOMEOWNERCD',\n",
       "       'EHI', 'DWELLTYPE', 'PCTB', 'PCTW', 'PCTH', 'PCTA', 'MHV', 'MEDSCHL',\n",
       "       'PCTOCCW', 'PCTOCCB', 'block_id_from', 'tract_id_from', 'block_id_to',\n",
       "       'tract_id_to', 'unit_price_from', 'unit_price_to', 'qlty_decrease',\n",
       "       'prop_val_pct_chg', 'prop_size_pct_chg', 'price_sqft_pct_chg',\n",
       "       'bedrooms_delta'],\n",
       "      dtype='object')"
      ]
     },
     "execution_count": 123,
     "metadata": {},
     "output_type": "execute_result"
    }
   ],
   "source": [
    "movers.columns"
   ]
  },
  {
   "cell_type": "markdown",
   "metadata": {},
   "source": [
    "### Merge renters on land use ODs"
   ]
  },
  {
   "cell_type": "code",
   "execution_count": 135,
   "metadata": {},
   "outputs": [],
   "source": [
    "renters = movers.loc[movers['HOMEOWNERCD'] == 'R', [\n",
    "    'tract_id_from', 'tract_id_to', 'AGE', 'EHI', 'PCTW', 'MEDSCHL', 'PCTOCCW',\n",
    "    'qlty_decrease', 'prop_val_pct_chg',\n",
    "    'prop_size_pct_chg', 'price_sqft_pct_chg', 'bedrooms_delta'\n",
    "]]"
   ]
  },
  {
   "cell_type": "code",
   "execution_count": 130,
   "metadata": {},
   "outputs": [
    {
     "data": {
      "text/plain": [
       "Index(['from', 'to', 'pct_white_from', 'pct_bach_from', 'pct_poverty_from',\n",
       "       'med_home_val_from', 'med_num_rooms_from', 'med_income_from',\n",
       "       'tract_id_from', 'life_exp_from', 'med_parcel_size_from',\n",
       "       'med_jobs_10000_from', 'med_pop_jobs_ratio_10000_from', 'GEOID_from',\n",
       "       'ALAND_from', 'centroid_from', 'pct_white_to', 'pct_bach_to',\n",
       "       'pct_poverty_to', 'med_home_val_to', 'med_num_rooms_to',\n",
       "       'med_income_to', 'tract_id_to', 'life_exp_to', 'med_parcel_size_to',\n",
       "       'med_jobs_10000_to', 'med_pop_jobs_ratio_10000_to', 'GEOID_to',\n",
       "       'ALAND_to', 'centroid_to', 'pct_white_delta', 'pct_bach_delta',\n",
       "       'pct_poverty_delta', 'med_home_val_pct_diff', 'med_num_rooms_delta',\n",
       "       'med_income_pct_diff', 'life_exp_delta', 'jobs_10km_pct_diff',\n",
       "       'pop_jobs_ratio_delta', 'med_parcel_size_pct_diff', 'distance'],\n",
       "      dtype='object')"
      ]
     },
     "execution_count": 130,
     "metadata": {},
     "output_type": "execute_result"
    }
   ],
   "source": [
    "ods.columns"
   ]
  },
  {
   "cell_type": "code",
   "execution_count": 143,
   "metadata": {},
   "outputs": [],
   "source": [
    "ods = ods[[\n",
    "    'tract_id_from', 'tract_id_to', 'pct_white_delta', 'pct_bach_delta', 'pct_poverty_delta',\n",
    "    'med_home_val_pct_diff', 'med_num_rooms_delta', 'med_income_pct_diff', 'life_exp_delta',\n",
    "    'jobs_10km_pct_diff', 'pop_jobs_ratio_delta', 'med_parcel_size_pct_diff', 'distance'\n",
    "]]\n",
    "ods.rename(columns={'tract_id_to': 'tract_id_alt'}, inplace=True)"
   ]
  },
  {
   "cell_type": "code",
   "execution_count": 144,
   "metadata": {},
   "outputs": [
    {
     "data": {
      "text/html": [
       "<div>\n",
       "<style scoped>\n",
       "    .dataframe tbody tr th:only-of-type {\n",
       "        vertical-align: middle;\n",
       "    }\n",
       "\n",
       "    .dataframe tbody tr th {\n",
       "        vertical-align: top;\n",
       "    }\n",
       "\n",
       "    .dataframe thead th {\n",
       "        text-align: right;\n",
       "    }\n",
       "</style>\n",
       "<table border=\"1\" class=\"dataframe\">\n",
       "  <thead>\n",
       "    <tr style=\"text-align: right;\">\n",
       "      <th></th>\n",
       "      <th>tract_id_from</th>\n",
       "      <th>tract_id_alt</th>\n",
       "      <th>pct_white_delta</th>\n",
       "      <th>pct_bach_delta</th>\n",
       "      <th>pct_poverty_delta</th>\n",
       "      <th>med_home_val_pct_diff</th>\n",
       "      <th>med_num_rooms_delta</th>\n",
       "      <th>med_income_pct_diff</th>\n",
       "      <th>life_exp_delta</th>\n",
       "      <th>jobs_10km_pct_diff</th>\n",
       "      <th>pop_jobs_ratio_delta</th>\n",
       "      <th>med_parcel_size_pct_diff</th>\n",
       "      <th>distance</th>\n",
       "    </tr>\n",
       "  </thead>\n",
       "  <tbody>\n",
       "    <tr>\n",
       "      <td>0</td>\n",
       "      <td>06081612500</td>\n",
       "      <td>06081612500</td>\n",
       "      <td>0.0</td>\n",
       "      <td>0.0</td>\n",
       "      <td>0.0</td>\n",
       "      <td>0.000000</td>\n",
       "      <td>0.0</td>\n",
       "      <td>0.000000</td>\n",
       "      <td>0.0</td>\n",
       "      <td>0.000000</td>\n",
       "      <td>0.000000</td>\n",
       "      <td>0.000000</td>\n",
       "      <td>706.015581</td>\n",
       "    </tr>\n",
       "    <tr>\n",
       "      <td>1</td>\n",
       "      <td>06081613501</td>\n",
       "      <td>06081612500</td>\n",
       "      <td>-3.6</td>\n",
       "      <td>19.6</td>\n",
       "      <td>3.9</td>\n",
       "      <td>1.322023</td>\n",
       "      <td>-1.5</td>\n",
       "      <td>1.026763</td>\n",
       "      <td>1.5</td>\n",
       "      <td>27.168575</td>\n",
       "      <td>-2.344640</td>\n",
       "      <td>0.127392</td>\n",
       "      <td>22653.899784</td>\n",
       "    </tr>\n",
       "    <tr>\n",
       "      <td>2</td>\n",
       "      <td>06081610201</td>\n",
       "      <td>06081612500</td>\n",
       "      <td>32.7</td>\n",
       "      <td>24.5</td>\n",
       "      <td>-17.1</td>\n",
       "      <td>1.566565</td>\n",
       "      <td>1.3</td>\n",
       "      <td>2.068941</td>\n",
       "      <td>4.3</td>\n",
       "      <td>0.004539</td>\n",
       "      <td>0.019333</td>\n",
       "      <td>0.589057</td>\n",
       "      <td>4533.923986</td>\n",
       "    </tr>\n",
       "    <tr>\n",
       "      <td>3</td>\n",
       "      <td>06081610202</td>\n",
       "      <td>06081612500</td>\n",
       "      <td>33.3</td>\n",
       "      <td>20.9</td>\n",
       "      <td>-19.4</td>\n",
       "      <td>4.421222</td>\n",
       "      <td>1.5</td>\n",
       "      <td>1.830360</td>\n",
       "      <td>7.5</td>\n",
       "      <td>-0.016150</td>\n",
       "      <td>0.056896</td>\n",
       "      <td>-0.198132</td>\n",
       "      <td>5925.981557</td>\n",
       "    </tr>\n",
       "    <tr>\n",
       "      <td>4</td>\n",
       "      <td>06081610303</td>\n",
       "      <td>06081612500</td>\n",
       "      <td>35.8</td>\n",
       "      <td>4.2</td>\n",
       "      <td>3.4</td>\n",
       "      <td>0.504380</td>\n",
       "      <td>-1.3</td>\n",
       "      <td>-0.292254</td>\n",
       "      <td>3.7</td>\n",
       "      <td>0.340931</td>\n",
       "      <td>0.258930</td>\n",
       "      <td>0.822274</td>\n",
       "      <td>10953.138790</td>\n",
       "    </tr>\n",
       "  </tbody>\n",
       "</table>\n",
       "</div>"
      ],
      "text/plain": [
       "  tract_id_from tract_id_alt  pct_white_delta  pct_bach_delta  \\\n",
       "0   06081612500  06081612500              0.0             0.0   \n",
       "1   06081613501  06081612500             -3.6            19.6   \n",
       "2   06081610201  06081612500             32.7            24.5   \n",
       "3   06081610202  06081612500             33.3            20.9   \n",
       "4   06081610303  06081612500             35.8             4.2   \n",
       "\n",
       "   pct_poverty_delta  med_home_val_pct_diff  med_num_rooms_delta  \\\n",
       "0                0.0               0.000000                  0.0   \n",
       "1                3.9               1.322023                 -1.5   \n",
       "2              -17.1               1.566565                  1.3   \n",
       "3              -19.4               4.421222                  1.5   \n",
       "4                3.4               0.504380                 -1.3   \n",
       "\n",
       "   med_income_pct_diff  life_exp_delta  jobs_10km_pct_diff  \\\n",
       "0             0.000000             0.0            0.000000   \n",
       "1             1.026763             1.5           27.168575   \n",
       "2             2.068941             4.3            0.004539   \n",
       "3             1.830360             7.5           -0.016150   \n",
       "4            -0.292254             3.7            0.340931   \n",
       "\n",
       "   pop_jobs_ratio_delta  med_parcel_size_pct_diff      distance  \n",
       "0              0.000000                  0.000000    706.015581  \n",
       "1             -2.344640                  0.127392  22653.899784  \n",
       "2              0.019333                  0.589057   4533.923986  \n",
       "3              0.056896                 -0.198132   5925.981557  \n",
       "4              0.258930                  0.822274  10953.138790  "
      ]
     },
     "execution_count": 144,
     "metadata": {},
     "output_type": "execute_result"
    }
   ],
   "source": [
    "ods.head()"
   ]
  },
  {
   "cell_type": "code",
   "execution_count": 147,
   "metadata": {},
   "outputs": [],
   "source": [
    "mct = pd.merge(renters, ods, on='tract_id_from')"
   ]
  },
  {
   "cell_type": "markdown",
   "metadata": {},
   "source": [
    "### Compute deltas"
   ]
  },
  {
   "cell_type": "markdown",
   "metadata": {},
   "source": [
    "#### infutor data"
   ]
  },
  {
   "cell_type": "markdown",
   "metadata": {},
   "source": [
    "### Save data"
   ]
  },
  {
   "cell_type": "code",
   "execution_count": 151,
   "metadata": {},
   "outputs": [],
   "source": [
    "mct.to_csv('../data/renter_moves_mct.csv')"
   ]
  }
 ],
 "metadata": {
  "kernelspec": {
   "display_name": "Python [conda env:infutor]",
   "language": "python",
   "name": "conda-env-infutor-py"
  },
  "language_info": {
   "codemirror_mode": {
    "name": "ipython",
    "version": 3
   },
   "file_extension": ".py",
   "mimetype": "text/x-python",
   "name": "python",
   "nbconvert_exporter": "python",
   "pygments_lexer": "ipython3",
   "version": "3.7.3"
  }
 },
 "nbformat": 4,
 "nbformat_minor": 2
}
