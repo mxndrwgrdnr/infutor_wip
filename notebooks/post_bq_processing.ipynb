{
 "cells": [
  {
   "cell_type": "code",
   "execution_count": 1,
   "metadata": {},
   "outputs": [],
   "source": [
    "import pandas as pd\n",
    "from glob import glob\n",
    "from tqdm import tqdm\n",
    "import dask\n",
    "import dask.dataframe as dd\n",
    "from dask.diagnostics import ProgressBar\n",
    "from dask.multiprocessing import get\n",
    "import numpy as np\n",
    "import pyarrow\n",
    "import time"
   ]
  },
  {
   "cell_type": "markdown",
   "metadata": {},
   "source": [
    "### Clean up movers"
   ]
  },
  {
   "cell_type": "code",
   "execution_count": 2,
   "metadata": {},
   "outputs": [],
   "source": [
    "movers = dd.read_csv(\n",
    "    '/home/data/infutor/CRD4/bay_area_movers*.csv',\n",
    "    dtype={'county_seq_' + str(x): str for x in range(1, 11)},\n",
    "    assume_missing=True\n",
    ")"
   ]
  },
  {
   "cell_type": "code",
   "execution_count": 3,
   "metadata": {},
   "outputs": [],
   "source": [
    "movers['not_valid'] = (\n",
    "    (movers.addrid_seq_1.notnull() & movers.effdate_seq_1.isna()) |\n",
    "    (movers.addrid_seq_2.notnull() & movers.effdate_seq_2.isna()) |\n",
    "    (movers.addrid_seq_3.notnull() & movers.effdate_seq_3.isna()) |\n",
    "    (movers.addrid_seq_4.notnull() & movers.effdate_seq_4.isna()) |\n",
    "    (movers.addrid_seq_5.notnull() & movers.effdate_seq_5.isna()) |\n",
    "    (movers.addrid_seq_6.notnull() & movers.effdate_seq_6.isna()) |\n",
    "    (movers.addrid_seq_7.notnull() & movers.effdate_seq_7.isna()) |\n",
    "    (movers.addrid_seq_8.notnull() & movers.effdate_seq_8.isna()) |\n",
    "    (movers.addrid_seq_9.notnull() & movers.effdate_seq_9.isna()) |\n",
    "    (movers.addrid_seq_10.notnull() & movers.effdate_seq_10.isna()))"
   ]
  },
  {
   "cell_type": "code",
   "execution_count": 4,
   "metadata": {},
   "outputs": [
    {
     "name": "stdout",
     "output_type": "stream",
     "text": [
      "[########################################] | 100% Completed |  1min  1.8s\n"
     ]
    }
   ],
   "source": [
    "with ProgressBar():\n",
    "    validated_movers = movers.compute()"
   ]
  },
  {
   "cell_type": "code",
   "execution_count": 5,
   "metadata": {},
   "outputs": [],
   "source": [
    "cleaned_movers = validated_movers[validated_movers['not_valid'] == False]"
   ]
  },
  {
   "cell_type": "code",
   "execution_count": 7,
   "metadata": {},
   "outputs": [
    {
     "data": {
      "text/html": [
       "<div>\n",
       "<style scoped>\n",
       "    .dataframe tbody tr th:only-of-type {\n",
       "        vertical-align: middle;\n",
       "    }\n",
       "\n",
       "    .dataframe tbody tr th {\n",
       "        vertical-align: top;\n",
       "    }\n",
       "\n",
       "    .dataframe thead th {\n",
       "        text-align: right;\n",
       "    }\n",
       "</style>\n",
       "<table border=\"1\" class=\"dataframe\">\n",
       "  <thead>\n",
       "    <tr style=\"text-align: right;\">\n",
       "      <th></th>\n",
       "      <th>pid_a</th>\n",
       "      <th>county_seq_1</th>\n",
       "      <th>addrid_seq_1</th>\n",
       "      <th>effdate_seq_1</th>\n",
       "      <th>county_seq_2</th>\n",
       "      <th>addrid_seq_2</th>\n",
       "      <th>effdate_seq_2</th>\n",
       "      <th>county_seq_3</th>\n",
       "      <th>addrid_seq_3</th>\n",
       "      <th>effdate_seq_3</th>\n",
       "      <th>...</th>\n",
       "      <th>county_seq_8</th>\n",
       "      <th>addrid_seq_8</th>\n",
       "      <th>effdate_seq_8</th>\n",
       "      <th>county_seq_9</th>\n",
       "      <th>addrid_seq_9</th>\n",
       "      <th>effdate_seq_9</th>\n",
       "      <th>county_seq_10</th>\n",
       "      <th>addrid_seq_10</th>\n",
       "      <th>effdate_seq_10</th>\n",
       "      <th>not_valid</th>\n",
       "    </tr>\n",
       "  </thead>\n",
       "  <tbody>\n",
       "    <tr>\n",
       "      <th>50133</th>\n",
       "      <td>Y39394571272644</td>\n",
       "      <td>013</td>\n",
       "      <td>239865960.0</td>\n",
       "      <td>200803.0</td>\n",
       "      <td>013</td>\n",
       "      <td>239865975.0</td>\n",
       "      <td>200803.0</td>\n",
       "      <td>NaN</td>\n",
       "      <td>NaN</td>\n",
       "      <td>NaN</td>\n",
       "      <td>...</td>\n",
       "      <td>NaN</td>\n",
       "      <td>NaN</td>\n",
       "      <td>NaN</td>\n",
       "      <td>NaN</td>\n",
       "      <td>NaN</td>\n",
       "      <td>NaN</td>\n",
       "      <td>NaN</td>\n",
       "      <td>NaN</td>\n",
       "      <td>NaN</td>\n",
       "      <td>False</td>\n",
       "    </tr>\n",
       "  </tbody>\n",
       "</table>\n",
       "<p>1 rows × 32 columns</p>\n",
       "</div>"
      ],
      "text/plain": [
       "                 pid_a county_seq_1  addrid_seq_1  effdate_seq_1 county_seq_2  \\\n",
       "50133  Y39394571272644          013   239865960.0       200803.0          013   \n",
       "\n",
       "       addrid_seq_2  effdate_seq_2 county_seq_3  addrid_seq_3  effdate_seq_3  \\\n",
       "50133   239865975.0       200803.0          NaN           NaN            NaN   \n",
       "\n",
       "       ... county_seq_8  addrid_seq_8  effdate_seq_8 county_seq_9  \\\n",
       "50133  ...          NaN           NaN            NaN          NaN   \n",
       "\n",
       "       addrid_seq_9  effdate_seq_9 county_seq_10  addrid_seq_10  \\\n",
       "50133           NaN            NaN           NaN            NaN   \n",
       "\n",
       "       effdate_seq_10 not_valid  \n",
       "50133             NaN     False  \n",
       "\n",
       "[1 rows x 32 columns]"
      ]
     },
     "execution_count": 7,
     "metadata": {},
     "output_type": "execute_result"
    }
   ],
   "source": [
    "cleaned_movers[cleaned_movers['pid_a'] == 'Y39394571272644']"
   ]
  },
  {
   "cell_type": "code",
   "execution_count": 6,
   "metadata": {},
   "outputs": [
    {
     "data": {
      "text/plain": [
       "(5999924, 32)"
      ]
     },
     "execution_count": 6,
     "metadata": {},
     "output_type": "execute_result"
    }
   ],
   "source": [
    "cleaned_movers.shape"
   ]
  },
  {
   "cell_type": "code",
   "execution_count": 7,
   "metadata": {},
   "outputs": [],
   "source": [
    "cleaned_movers.to_parquet('../data/cleaned_movers.parquet', engine='pyarrow')"
   ]
  },
  {
   "cell_type": "markdown",
   "metadata": {},
   "source": [
    "### Process movers wide to long"
   ]
  },
  {
   "cell_type": "code",
   "execution_count": 2,
   "metadata": {},
   "outputs": [],
   "source": [
    "cleaned_movers = dd.read_parquet('../data/cleaned_movers.parquet', engine='pyarrow')"
   ]
  },
  {
   "cell_type": "code",
   "execution_count": 3,
   "metadata": {},
   "outputs": [],
   "source": [
    "cleaned_movers = cleaned_movers.repartition(npartitions=10000)"
   ]
  },
  {
   "cell_type": "code",
   "execution_count": 4,
   "metadata": {},
   "outputs": [],
   "source": [
    "def process_df(df):\n",
    "    \n",
    "    sttm = time.time()\n",
    "    out_cols = ['pid', 'from_addrid', 'to_addrid', 'from_effdate', 'to_effdate', 'from_county', 'to_county', 'seq']\n",
    "    long_moves = pd.DataFrame(columns=out_cols, dtype=str)\n",
    "    \n",
    "    for x in range(1,10):\n",
    "\n",
    "        from_county_col = 'county_seq_' + str(x)\n",
    "        to_county_col = 'county_seq_' + str(x + 1)\n",
    "        from_addrid_col = 'addrid_seq_' + str(x)\n",
    "        to_addrid_col = 'addrid_seq_' + str(x + 1)\n",
    "        from_effdate_col = 'effdate_seq_' + str(x)\n",
    "        to_effdate_col = 'effdate_seq_' + str(x + 1)\n",
    "    \n",
    "        tmp = df[[\n",
    "            'pid_a', from_addrid_col, to_addrid_col, from_effdate_col, \n",
    "            to_effdate_col, from_county_col, to_county_col]].copy(deep=True)\n",
    "        tmp.loc[:, 'seq'] = x\n",
    "        long_moves = pd.concat((long_moves, tmp.rename(columns=dict(zip(tmp.columns, out_cols)))))\n",
    "\n",
    "    return long_moves"
   ]
  },
  {
   "cell_type": "code",
   "execution_count": 5,
   "metadata": {},
   "outputs": [],
   "source": [
    "out_cols = ['pid', 'from_addrid', 'to_addrid', 'from_effdate', 'to_effdate', 'from_county', 'to_county', 'seq']"
   ]
  },
  {
   "cell_type": "code",
   "execution_count": 6,
   "metadata": {},
   "outputs": [],
   "source": [
    "long_movers = cleaned_movers.map_partitions(process_df, meta=pd.DataFrame(columns=out_cols, dtype=str))"
   ]
  },
  {
   "cell_type": "code",
   "execution_count": 7,
   "metadata": {},
   "outputs": [
    {
     "name": "stdout",
     "output_type": "stream",
     "text": [
      "[########################################] | 100% Completed | 15min 46.7s\n"
     ]
    }
   ],
   "source": [
    "with ProgressBar():\n",
    "    all_moves = long_movers.compute()"
   ]
  },
  {
   "cell_type": "code",
   "execution_count": 8,
   "metadata": {},
   "outputs": [
    {
     "data": {
      "text/plain": [
       "True"
      ]
     },
     "execution_count": 8,
     "metadata": {},
     "output_type": "execute_result"
    }
   ],
   "source": [
    "len(all_moves) == len(cleaned_movers) * 9"
   ]
  },
  {
   "cell_type": "markdown",
   "metadata": {},
   "source": [
    "### Drop rows without full to/from data"
   ]
  },
  {
   "cell_type": "code",
   "execution_count": 12,
   "metadata": {},
   "outputs": [],
   "source": [
    "all_moves = dd.from_pandas(all_moves, npartitions=10000)"
   ]
  },
  {
   "cell_type": "code",
   "execution_count": 19,
   "metadata": {},
   "outputs": [],
   "source": [
    "moves_not_null = all_moves[all_moves['from_effdate'].notnull() & all_moves['to_effdate'].notnull()]"
   ]
  },
  {
   "cell_type": "code",
   "execution_count": 20,
   "metadata": {},
   "outputs": [
    {
     "name": "stdout",
     "output_type": "stream",
     "text": [
      "[########################################] | 100% Completed |  2min 42.7s\n"
     ]
    }
   ],
   "source": [
    "with ProgressBar():\n",
    "    moves_not_null = moves_not_null.compute()"
   ]
  },
  {
   "cell_type": "code",
   "execution_count": 22,
   "metadata": {},
   "outputs": [
    {
     "data": {
      "text/plain": [
       "16713668"
      ]
     },
     "execution_count": 22,
     "metadata": {},
     "output_type": "execute_result"
    }
   ],
   "source": [
    "len(moves_not_null)"
   ]
  },
  {
   "cell_type": "markdown",
   "metadata": {},
   "source": [
    "### Drop rows where move is between the same address ID"
   ]
  },
  {
   "cell_type": "code",
   "execution_count": 23,
   "metadata": {},
   "outputs": [],
   "source": [
    "moves_not_dupe = moves_not_null[moves_not_null['from_addrid'] != moves_not_null['to_addrid']]"
   ]
  },
  {
   "cell_type": "code",
   "execution_count": 25,
   "metadata": {},
   "outputs": [
    {
     "data": {
      "text/plain": [
       "14768635"
      ]
     },
     "execution_count": 25,
     "metadata": {},
     "output_type": "execute_result"
    }
   ],
   "source": [
    "len(moves_not_dupe)"
   ]
  },
  {
   "cell_type": "code",
   "execution_count": 28,
   "metadata": {},
   "outputs": [
    {
     "data": {
      "text/html": [
       "<div>\n",
       "<style scoped>\n",
       "    .dataframe tbody tr th:only-of-type {\n",
       "        vertical-align: middle;\n",
       "    }\n",
       "\n",
       "    .dataframe tbody tr th {\n",
       "        vertical-align: top;\n",
       "    }\n",
       "\n",
       "    .dataframe thead th {\n",
       "        text-align: right;\n",
       "    }\n",
       "</style>\n",
       "<table border=\"1\" class=\"dataframe\">\n",
       "  <thead>\n",
       "    <tr style=\"text-align: right;\">\n",
       "      <th></th>\n",
       "      <th>pid</th>\n",
       "      <th>from_addrid</th>\n",
       "      <th>to_addrid</th>\n",
       "      <th>from_effdate</th>\n",
       "      <th>to_effdate</th>\n",
       "      <th>from_county</th>\n",
       "      <th>to_county</th>\n",
       "      <th>seq</th>\n",
       "    </tr>\n",
       "  </thead>\n",
       "  <tbody>\n",
       "    <tr>\n",
       "      <th>0</th>\n",
       "      <td>Y39394600237303</td>\n",
       "      <td>10019445.0</td>\n",
       "      <td>18876210.0</td>\n",
       "      <td>200205.0</td>\n",
       "      <td>200912.0</td>\n",
       "      <td>085</td>\n",
       "      <td>085</td>\n",
       "      <td>3</td>\n",
       "    </tr>\n",
       "    <tr>\n",
       "      <th>0</th>\n",
       "      <td>Y39394856369551</td>\n",
       "      <td>142211808.0</td>\n",
       "      <td>214903362.0</td>\n",
       "      <td>199511.0</td>\n",
       "      <td>199708.0</td>\n",
       "      <td>085</td>\n",
       "      <td>077</td>\n",
       "      <td>1</td>\n",
       "    </tr>\n",
       "    <tr>\n",
       "      <th>0</th>\n",
       "      <td>Y39394693863001</td>\n",
       "      <td>176952249.0</td>\n",
       "      <td>200339258.0</td>\n",
       "      <td>199908.0</td>\n",
       "      <td>200006.0</td>\n",
       "      <td>037</td>\n",
       "      <td>097</td>\n",
       "      <td>1</td>\n",
       "    </tr>\n",
       "    <tr>\n",
       "      <th>0</th>\n",
       "      <td>Y39394693863001</td>\n",
       "      <td>176952249.0</td>\n",
       "      <td>175588889.0</td>\n",
       "      <td>200603.0</td>\n",
       "      <td>200611.0</td>\n",
       "      <td>037</td>\n",
       "      <td>037</td>\n",
       "      <td>4</td>\n",
       "    </tr>\n",
       "    <tr>\n",
       "      <th>0</th>\n",
       "      <td>Y39394693863001</td>\n",
       "      <td>175588889.0</td>\n",
       "      <td>200339258.0</td>\n",
       "      <td>200611.0</td>\n",
       "      <td>201006.0</td>\n",
       "      <td>037</td>\n",
       "      <td>097</td>\n",
       "      <td>5</td>\n",
       "    </tr>\n",
       "  </tbody>\n",
       "</table>\n",
       "</div>"
      ],
      "text/plain": [
       "               pid  from_addrid    to_addrid  from_effdate  to_effdate  \\\n",
       "0  Y39394600237303   10019445.0   18876210.0      200205.0    200912.0   \n",
       "0  Y39394856369551  142211808.0  214903362.0      199511.0    199708.0   \n",
       "0  Y39394693863001  176952249.0  200339258.0      199908.0    200006.0   \n",
       "0  Y39394693863001  176952249.0  175588889.0      200603.0    200611.0   \n",
       "0  Y39394693863001  175588889.0  200339258.0      200611.0    201006.0   \n",
       "\n",
       "  from_county to_county seq  \n",
       "0         085       085   3  \n",
       "0         085       077   1  \n",
       "0         037       097   1  \n",
       "0         037       037   4  \n",
       "0         037       097   5  "
      ]
     },
     "execution_count": 28,
     "metadata": {},
     "output_type": "execute_result"
    }
   ],
   "source": [
    "moves_not_dupe.head()"
   ]
  },
  {
   "cell_type": "markdown",
   "metadata": {},
   "source": [
    "### Save results"
   ]
  },
  {
   "cell_type": "code",
   "execution_count": 27,
   "metadata": {},
   "outputs": [],
   "source": [
    "moves_not_dupe.to_parquet('../data/moves_long.parquet', engine='pyarrow')"
   ]
  }
 ],
 "metadata": {
  "kernelspec": {
   "display_name": "Python 3",
   "language": "python",
   "name": "python3"
  },
  "language_info": {
   "codemirror_mode": {
    "name": "ipython",
    "version": 3
   },
   "file_extension": ".py",
   "mimetype": "text/x-python",
   "name": "python",
   "nbconvert_exporter": "python",
   "pygments_lexer": "ipython3",
   "version": "3.7.1"
  }
 },
 "nbformat": 4,
 "nbformat_minor": 2
}
