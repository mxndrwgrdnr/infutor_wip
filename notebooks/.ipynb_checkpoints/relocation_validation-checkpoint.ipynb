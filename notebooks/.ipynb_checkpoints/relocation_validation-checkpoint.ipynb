{
 "cells": [
  {
   "cell_type": "code",
   "execution_count": 1,
   "metadata": {},
   "outputs": [],
   "source": [
    "import pandas as pd\n",
    "from matplotlib import pyplot as  plt\n",
    "import seaborn as sns\n",
    "import numpy as np\n",
    "import census\n",
    "import requests\n",
    "import json\n",
    "%matplotlib inline"
   ]
  },
  {
   "cell_type": "markdown",
   "metadata": {},
   "source": [
    "### aggregate movers"
   ]
  },
  {
   "cell_type": "code",
   "execution_count": 2,
   "metadata": {},
   "outputs": [],
   "source": [
    "movers = pd.read_csv(\n",
    "    '../data/movers.csv', dtype={'PROP_FIPSCD_from': str, 'PROP_FIPSCD_to': str},\n",
    "    index_col=0\n",
    ")\n",
    "movers.index.name = 'pid'\n",
    "movers.reset_index(inplace=True)"
   ]
  },
  {
   "cell_type": "code",
   "execution_count": 3,
   "metadata": {},
   "outputs": [
    {
     "data": {
      "text/html": [
       "<div>\n",
       "<style scoped>\n",
       "    .dataframe tbody tr th:only-of-type {\n",
       "        vertical-align: middle;\n",
       "    }\n",
       "\n",
       "    .dataframe tbody tr th {\n",
       "        vertical-align: top;\n",
       "    }\n",
       "\n",
       "    .dataframe thead th {\n",
       "        text-align: right;\n",
       "    }\n",
       "</style>\n",
       "<table border=\"1\" class=\"dataframe\">\n",
       "  <thead>\n",
       "    <tr style=\"text-align: right;\">\n",
       "      <th></th>\n",
       "      <th>pid</th>\n",
       "      <th>from_addrid</th>\n",
       "      <th>from_lat</th>\n",
       "      <th>from_lon</th>\n",
       "      <th>PROP_FIPSCD_from</th>\n",
       "      <th>PROP_CENSUSTRACT_from</th>\n",
       "      <th>PROP_MUNINAME_from</th>\n",
       "      <th>PROP_OWNEROCC_from</th>\n",
       "      <th>PROP_QLTY_from</th>\n",
       "      <th>PROP_VALCALC_from</th>\n",
       "      <th>...</th>\n",
       "      <th>to_effdate</th>\n",
       "      <th>distance</th>\n",
       "      <th>AGE</th>\n",
       "      <th>LOR</th>\n",
       "      <th>HOMEOWNERCD</th>\n",
       "      <th>EHI</th>\n",
       "      <th>PCTB</th>\n",
       "      <th>PCTW</th>\n",
       "      <th>PCTH</th>\n",
       "      <th>PCTA</th>\n",
       "    </tr>\n",
       "  </thead>\n",
       "  <tbody>\n",
       "    <tr>\n",
       "      <th>0</th>\n",
       "      <td>Y39394000231102</td>\n",
       "      <td>124297011.0</td>\n",
       "      <td>37.982800</td>\n",
       "      <td>-121.83700</td>\n",
       "      <td>06013</td>\n",
       "      <td>3.551072e+09</td>\n",
       "      <td>NaN</td>\n",
       "      <td>O</td>\n",
       "      <td>QGO</td>\n",
       "      <td>316975.0</td>\n",
       "      <td>...</td>\n",
       "      <td>201007.0</td>\n",
       "      <td>20241.509295</td>\n",
       "      <td>93.0</td>\n",
       "      <td>3.0</td>\n",
       "      <td>NaN</td>\n",
       "      <td>A</td>\n",
       "      <td>S</td>\n",
       "      <td>F</td>\n",
       "      <td>P</td>\n",
       "      <td>S</td>\n",
       "    </tr>\n",
       "    <tr>\n",
       "      <th>1</th>\n",
       "      <td>Y39394000242239</td>\n",
       "      <td>52245208.0</td>\n",
       "      <td>37.926600</td>\n",
       "      <td>-122.38900</td>\n",
       "      <td>06013</td>\n",
       "      <td>3.780001e+09</td>\n",
       "      <td>NaN</td>\n",
       "      <td>A</td>\n",
       "      <td>NaN</td>\n",
       "      <td>331019.0</td>\n",
       "      <td>...</td>\n",
       "      <td>201610.0</td>\n",
       "      <td>8068.106654</td>\n",
       "      <td>93.0</td>\n",
       "      <td>15.0</td>\n",
       "      <td>H</td>\n",
       "      <td>D</td>\n",
       "      <td>S</td>\n",
       "      <td>F</td>\n",
       "      <td>Q</td>\n",
       "      <td>S</td>\n",
       "    </tr>\n",
       "    <tr>\n",
       "      <th>2</th>\n",
       "      <td>Y39394000314991</td>\n",
       "      <td>186863857.0</td>\n",
       "      <td>37.774000</td>\n",
       "      <td>-122.26000</td>\n",
       "      <td>06001</td>\n",
       "      <td>4.279004e+09</td>\n",
       "      <td>ALAMEDA INCORP</td>\n",
       "      <td>A</td>\n",
       "      <td>QAV</td>\n",
       "      <td>309321.0</td>\n",
       "      <td>...</td>\n",
       "      <td>201706.0</td>\n",
       "      <td>1601.150776</td>\n",
       "      <td>48.0</td>\n",
       "      <td>8.0</td>\n",
       "      <td>H</td>\n",
       "      <td>G</td>\n",
       "      <td>R</td>\n",
       "      <td>P</td>\n",
       "      <td>R</td>\n",
       "      <td>L</td>\n",
       "    </tr>\n",
       "    <tr>\n",
       "      <th>3</th>\n",
       "      <td>Y39394000381839</td>\n",
       "      <td>47811725.0</td>\n",
       "      <td>37.577400</td>\n",
       "      <td>-121.99300</td>\n",
       "      <td>06001</td>\n",
       "      <td>4.412002e+09</td>\n",
       "      <td>FREMONT INCORP</td>\n",
       "      <td>O</td>\n",
       "      <td>QAV</td>\n",
       "      <td>355445.0</td>\n",
       "      <td>...</td>\n",
       "      <td>201304.0</td>\n",
       "      <td>21687.900364</td>\n",
       "      <td>76.0</td>\n",
       "      <td>6.0</td>\n",
       "      <td>R</td>\n",
       "      <td>G</td>\n",
       "      <td>T</td>\n",
       "      <td>H</td>\n",
       "      <td>R</td>\n",
       "      <td>P</td>\n",
       "    </tr>\n",
       "    <tr>\n",
       "      <th>4</th>\n",
       "      <td>Y39394000381839</td>\n",
       "      <td>83668792.0</td>\n",
       "      <td>37.751273</td>\n",
       "      <td>-122.43469</td>\n",
       "      <td>06075</td>\n",
       "      <td>2.120020e+08</td>\n",
       "      <td>NaN</td>\n",
       "      <td>NaN</td>\n",
       "      <td>NaN</td>\n",
       "      <td>1009257.0</td>\n",
       "      <td>...</td>\n",
       "      <td>200310.0</td>\n",
       "      <td>43484.264229</td>\n",
       "      <td>76.0</td>\n",
       "      <td>6.0</td>\n",
       "      <td>R</td>\n",
       "      <td>G</td>\n",
       "      <td>T</td>\n",
       "      <td>H</td>\n",
       "      <td>R</td>\n",
       "      <td>P</td>\n",
       "    </tr>\n",
       "  </tbody>\n",
       "</table>\n",
       "<p>5 rows × 33 columns</p>\n",
       "</div>"
      ],
      "text/plain": [
       "               pid  from_addrid   from_lat   from_lon PROP_FIPSCD_from  \\\n",
       "0  Y39394000231102  124297011.0  37.982800 -121.83700            06013   \n",
       "1  Y39394000242239   52245208.0  37.926600 -122.38900            06013   \n",
       "2  Y39394000314991  186863857.0  37.774000 -122.26000            06001   \n",
       "3  Y39394000381839   47811725.0  37.577400 -121.99300            06001   \n",
       "4  Y39394000381839   83668792.0  37.751273 -122.43469            06075   \n",
       "\n",
       "   PROP_CENSUSTRACT_from PROP_MUNINAME_from PROP_OWNEROCC_from PROP_QLTY_from  \\\n",
       "0           3.551072e+09                NaN                  O            QGO   \n",
       "1           3.780001e+09                NaN                  A            NaN   \n",
       "2           4.279004e+09     ALAMEDA INCORP                  A            QAV   \n",
       "3           4.412002e+09     FREMONT INCORP                  O            QAV   \n",
       "4           2.120020e+08                NaN                NaN            NaN   \n",
       "\n",
       "   PROP_VALCALC_from  ...  to_effdate      distance   AGE   LOR  HOMEOWNERCD  \\\n",
       "0           316975.0  ...    201007.0  20241.509295  93.0   3.0          NaN   \n",
       "1           331019.0  ...    201610.0   8068.106654  93.0  15.0            H   \n",
       "2           309321.0  ...    201706.0   1601.150776  48.0   8.0            H   \n",
       "3           355445.0  ...    201304.0  21687.900364  76.0   6.0            R   \n",
       "4          1009257.0  ...    200310.0  43484.264229  76.0   6.0            R   \n",
       "\n",
       "  EHI  PCTB PCTW PCTH PCTA  \n",
       "0   A     S    F    P    S  \n",
       "1   D     S    F    Q    S  \n",
       "2   G     R    P    R    L  \n",
       "3   G     T    H    R    P  \n",
       "4   G     T    H    R    P  \n",
       "\n",
       "[5 rows x 33 columns]"
      ]
     },
     "execution_count": 3,
     "metadata": {},
     "output_type": "execute_result"
    }
   ],
   "source": [
    "movers.head()"
   ]
  },
  {
   "cell_type": "code",
   "execution_count": 4,
   "metadata": {},
   "outputs": [],
   "source": [
    "uniq_fips = list(set(list(movers['PROP_FIPSCD_from'].unique()) + list(movers['PROP_FIPSCD_to'].unique())))"
   ]
  },
  {
   "cell_type": "code",
   "execution_count": 5,
   "metadata": {},
   "outputs": [],
   "source": [
    "movers = movers[(movers['to_effdate'] > 201112) & (movers['to_effdate'] < 201701)]"
   ]
  },
  {
   "cell_type": "code",
   "execution_count": 7,
   "metadata": {},
   "outputs": [],
   "source": [
    "grouped = movers[['pid', 'PROP_FIPSCD_from', 'PROP_FIPSCD_to']].groupby(\n",
    "    ['PROP_FIPSCD_from', 'PROP_FIPSCD_to'])"
   ]
  },
  {
   "cell_type": "code",
   "execution_count": 8,
   "metadata": {},
   "outputs": [],
   "source": [
    "flow_counts = grouped.count().reset_index()"
   ]
  },
  {
   "cell_type": "code",
   "execution_count": 9,
   "metadata": {},
   "outputs": [],
   "source": [
    "flow_counts.rename(columns={'pid': 'count'}, inplace=True)"
   ]
  },
  {
   "cell_type": "code",
   "execution_count": 10,
   "metadata": {},
   "outputs": [],
   "source": [
    "total_infutor_movers = flow_counts['count'].sum()\n",
    "flow_counts['pct_flow'] = flow_counts['count'] / total_infutor_movers"
   ]
  },
  {
   "cell_type": "markdown",
   "metadata": {},
   "source": [
    "### Get census data"
   ]
  },
  {
   "cell_type": "code",
   "execution_count": 11,
   "metadata": {},
   "outputs": [],
   "source": [
    "census_api_key = '181ed8c64531c167176365d52ac460d969d54cf2'"
   ]
  },
  {
   "cell_type": "code",
   "execution_count": 12,
   "metadata": {},
   "outputs": [],
   "source": [
    "counties = [fip[-3:] for fip in uniq_fips]"
   ]
  },
  {
   "cell_type": "markdown",
   "metadata": {},
   "source": [
    "#### Inter-county"
   ]
  },
  {
   "cell_type": "code",
   "execution_count": 13,
   "metadata": {},
   "outputs": [],
   "source": [
    "query = ('https://api.census.gov/data/2016/acs/flows?get=GEOID1,GEOID2,MOVEDOUT'\n",
    "         '&for=county:{0}&in=state:06&key={1}'.format(','.join(counties), census_api_key))"
   ]
  },
  {
   "cell_type": "code",
   "execution_count": 14,
   "metadata": {},
   "outputs": [],
   "source": [
    "test = requests.get(query)"
   ]
  },
  {
   "cell_type": "code",
   "execution_count": 15,
   "metadata": {},
   "outputs": [],
   "source": [
    "data = test.json()"
   ]
  },
  {
   "cell_type": "code",
   "execution_count": 16,
   "metadata": {},
   "outputs": [],
   "source": [
    "headers = data.pop(0)"
   ]
  },
  {
   "cell_type": "code",
   "execution_count": 17,
   "metadata": {},
   "outputs": [],
   "source": [
    "inter_df = pd.DataFrame(data, columns=headers)\n",
    "inter_df['MOVEDOUT'] = inter_df['MOVEDOUT'].astype(float)"
   ]
  },
  {
   "cell_type": "code",
   "execution_count": 18,
   "metadata": {},
   "outputs": [],
   "source": [
    "inter_df = inter_df[inter_df['GEOID2'].isin(['06' + county for county in counties])].reset_index(drop=True)"
   ]
  },
  {
   "cell_type": "code",
   "execution_count": 19,
   "metadata": {},
   "outputs": [
    {
     "data": {
      "text/html": [
       "<div>\n",
       "<style scoped>\n",
       "    .dataframe tbody tr th:only-of-type {\n",
       "        vertical-align: middle;\n",
       "    }\n",
       "\n",
       "    .dataframe tbody tr th {\n",
       "        vertical-align: top;\n",
       "    }\n",
       "\n",
       "    .dataframe thead th {\n",
       "        text-align: right;\n",
       "    }\n",
       "</style>\n",
       "<table border=\"1\" class=\"dataframe\">\n",
       "  <thead>\n",
       "    <tr style=\"text-align: right;\">\n",
       "      <th></th>\n",
       "      <th>GEOID1</th>\n",
       "      <th>GEOID2</th>\n",
       "      <th>MOVEDOUT</th>\n",
       "      <th>state</th>\n",
       "      <th>county</th>\n",
       "    </tr>\n",
       "  </thead>\n",
       "  <tbody>\n",
       "    <tr>\n",
       "      <th>0</th>\n",
       "      <td>06001</td>\n",
       "      <td>06013</td>\n",
       "      <td>15682.0</td>\n",
       "      <td>06</td>\n",
       "      <td>001</td>\n",
       "    </tr>\n",
       "    <tr>\n",
       "      <th>1</th>\n",
       "      <td>06001</td>\n",
       "      <td>06041</td>\n",
       "      <td>1127.0</td>\n",
       "      <td>06</td>\n",
       "      <td>001</td>\n",
       "    </tr>\n",
       "    <tr>\n",
       "      <th>2</th>\n",
       "      <td>06001</td>\n",
       "      <td>06055</td>\n",
       "      <td>168.0</td>\n",
       "      <td>06</td>\n",
       "      <td>001</td>\n",
       "    </tr>\n",
       "    <tr>\n",
       "      <th>3</th>\n",
       "      <td>06001</td>\n",
       "      <td>06075</td>\n",
       "      <td>4962.0</td>\n",
       "      <td>06</td>\n",
       "      <td>001</td>\n",
       "    </tr>\n",
       "    <tr>\n",
       "      <th>4</th>\n",
       "      <td>06001</td>\n",
       "      <td>06081</td>\n",
       "      <td>3178.0</td>\n",
       "      <td>06</td>\n",
       "      <td>001</td>\n",
       "    </tr>\n",
       "  </tbody>\n",
       "</table>\n",
       "</div>"
      ],
      "text/plain": [
       "  GEOID1 GEOID2  MOVEDOUT state county\n",
       "0  06001  06013   15682.0    06    001\n",
       "1  06001  06041    1127.0    06    001\n",
       "2  06001  06055     168.0    06    001\n",
       "3  06001  06075    4962.0    06    001\n",
       "4  06001  06081    3178.0    06    001"
      ]
     },
     "execution_count": 19,
     "metadata": {},
     "output_type": "execute_result"
    }
   ],
   "source": [
    "inter_df.head()"
   ]
  },
  {
   "cell_type": "markdown",
   "metadata": {},
   "source": [
    "#### Intra-county"
   ]
  },
  {
   "cell_type": "code",
   "execution_count": 20,
   "metadata": {},
   "outputs": [],
   "source": [
    "query = ('https://api.census.gov/data/2016/acs/acs5?get=GEO_ID,B07001_033E'\n",
    "         '&for=county:{0}&in=state:06&key={1}'.format(','.join(counties), census_api_key))"
   ]
  },
  {
   "cell_type": "code",
   "execution_count": 21,
   "metadata": {},
   "outputs": [],
   "source": [
    "test = requests.get(query)"
   ]
  },
  {
   "cell_type": "code",
   "execution_count": 22,
   "metadata": {},
   "outputs": [],
   "source": [
    "data = test.json()"
   ]
  },
  {
   "cell_type": "code",
   "execution_count": 23,
   "metadata": {},
   "outputs": [],
   "source": [
    "headers = data.pop(0)"
   ]
  },
  {
   "cell_type": "code",
   "execution_count": 24,
   "metadata": {},
   "outputs": [],
   "source": [
    "intra_df = pd.DataFrame(data, columns=headers)"
   ]
  },
  {
   "cell_type": "code",
   "execution_count": 25,
   "metadata": {},
   "outputs": [],
   "source": [
    "intra_df['GEOID1'] = intra_df['GEO_ID'].str[-5:]\n",
    "intra_df['GEOID2'] = intra_df['GEO_ID'].str[-5:]\n",
    "intra_df.drop(columns='GEO_ID', inplace=True)\n",
    "intra_df.rename(columns={'B07001_033E': 'MOVEDOUT'}, inplace=True)\n",
    "intra_df['MOVEDOUT'] = intra_df['MOVEDOUT'].astype(float)\n",
    "intra_df = intra_df[inter_df.columns]"
   ]
  },
  {
   "cell_type": "code",
   "execution_count": 26,
   "metadata": {},
   "outputs": [
    {
     "data": {
      "text/html": [
       "<div>\n",
       "<style scoped>\n",
       "    .dataframe tbody tr th:only-of-type {\n",
       "        vertical-align: middle;\n",
       "    }\n",
       "\n",
       "    .dataframe tbody tr th {\n",
       "        vertical-align: top;\n",
       "    }\n",
       "\n",
       "    .dataframe thead th {\n",
       "        text-align: right;\n",
       "    }\n",
       "</style>\n",
       "<table border=\"1\" class=\"dataframe\">\n",
       "  <thead>\n",
       "    <tr style=\"text-align: right;\">\n",
       "      <th></th>\n",
       "      <th>GEOID1</th>\n",
       "      <th>GEOID2</th>\n",
       "      <th>MOVEDOUT</th>\n",
       "      <th>state</th>\n",
       "      <th>county</th>\n",
       "    </tr>\n",
       "  </thead>\n",
       "  <tbody>\n",
       "    <tr>\n",
       "      <th>0</th>\n",
       "      <td>06001</td>\n",
       "      <td>06001</td>\n",
       "      <td>118601.0</td>\n",
       "      <td>06</td>\n",
       "      <td>001</td>\n",
       "    </tr>\n",
       "    <tr>\n",
       "      <th>1</th>\n",
       "      <td>06013</td>\n",
       "      <td>06013</td>\n",
       "      <td>86865.0</td>\n",
       "      <td>06</td>\n",
       "      <td>013</td>\n",
       "    </tr>\n",
       "    <tr>\n",
       "      <th>2</th>\n",
       "      <td>06041</td>\n",
       "      <td>06041</td>\n",
       "      <td>15065.0</td>\n",
       "      <td>06</td>\n",
       "      <td>041</td>\n",
       "    </tr>\n",
       "    <tr>\n",
       "      <th>3</th>\n",
       "      <td>06055</td>\n",
       "      <td>06055</td>\n",
       "      <td>10557.0</td>\n",
       "      <td>06</td>\n",
       "      <td>055</td>\n",
       "    </tr>\n",
       "    <tr>\n",
       "      <th>4</th>\n",
       "      <td>06075</td>\n",
       "      <td>06075</td>\n",
       "      <td>56616.0</td>\n",
       "      <td>06</td>\n",
       "      <td>075</td>\n",
       "    </tr>\n",
       "  </tbody>\n",
       "</table>\n",
       "</div>"
      ],
      "text/plain": [
       "  GEOID1 GEOID2  MOVEDOUT state county\n",
       "0  06001  06001  118601.0    06    001\n",
       "1  06013  06013   86865.0    06    013\n",
       "2  06041  06041   15065.0    06    041\n",
       "3  06055  06055   10557.0    06    055\n",
       "4  06075  06075   56616.0    06    075"
      ]
     },
     "execution_count": 26,
     "metadata": {},
     "output_type": "execute_result"
    }
   ],
   "source": [
    "intra_df.head()"
   ]
  },
  {
   "cell_type": "markdown",
   "metadata": {},
   "source": [
    "#### Append"
   ]
  },
  {
   "cell_type": "code",
   "execution_count": 27,
   "metadata": {},
   "outputs": [],
   "source": [
    "acs_df = pd.concat((intra_df, inter_df), ignore_index=True)"
   ]
  },
  {
   "cell_type": "code",
   "execution_count": 28,
   "metadata": {
    "scrolled": true
   },
   "outputs": [],
   "source": [
    "total_acs_movers = acs_df['MOVEDOUT'].sum()"
   ]
  },
  {
   "cell_type": "code",
   "execution_count": 29,
   "metadata": {},
   "outputs": [],
   "source": [
    "acs_df['pct_flow'] = acs_df['MOVEDOUT'] / total_acs_movers"
   ]
  },
  {
   "cell_type": "code",
   "execution_count": 30,
   "metadata": {},
   "outputs": [
    {
     "data": {
      "text/html": [
       "<div>\n",
       "<style scoped>\n",
       "    .dataframe tbody tr th:only-of-type {\n",
       "        vertical-align: middle;\n",
       "    }\n",
       "\n",
       "    .dataframe tbody tr th {\n",
       "        vertical-align: top;\n",
       "    }\n",
       "\n",
       "    .dataframe thead th {\n",
       "        text-align: right;\n",
       "    }\n",
       "</style>\n",
       "<table border=\"1\" class=\"dataframe\">\n",
       "  <thead>\n",
       "    <tr style=\"text-align: right;\">\n",
       "      <th></th>\n",
       "      <th>GEOID1</th>\n",
       "      <th>GEOID2</th>\n",
       "      <th>MOVEDOUT</th>\n",
       "      <th>state</th>\n",
       "      <th>county</th>\n",
       "      <th>pct_flow</th>\n",
       "    </tr>\n",
       "  </thead>\n",
       "  <tbody>\n",
       "    <tr>\n",
       "      <th>0</th>\n",
       "      <td>06001</td>\n",
       "      <td>06001</td>\n",
       "      <td>118601.0</td>\n",
       "      <td>06</td>\n",
       "      <td>001</td>\n",
       "      <td>0.160918</td>\n",
       "    </tr>\n",
       "    <tr>\n",
       "      <th>1</th>\n",
       "      <td>06013</td>\n",
       "      <td>06013</td>\n",
       "      <td>86865.0</td>\n",
       "      <td>06</td>\n",
       "      <td>013</td>\n",
       "      <td>0.117859</td>\n",
       "    </tr>\n",
       "    <tr>\n",
       "      <th>2</th>\n",
       "      <td>06041</td>\n",
       "      <td>06041</td>\n",
       "      <td>15065.0</td>\n",
       "      <td>06</td>\n",
       "      <td>041</td>\n",
       "      <td>0.020440</td>\n",
       "    </tr>\n",
       "    <tr>\n",
       "      <th>3</th>\n",
       "      <td>06055</td>\n",
       "      <td>06055</td>\n",
       "      <td>10557.0</td>\n",
       "      <td>06</td>\n",
       "      <td>055</td>\n",
       "      <td>0.014324</td>\n",
       "    </tr>\n",
       "    <tr>\n",
       "      <th>4</th>\n",
       "      <td>06075</td>\n",
       "      <td>06075</td>\n",
       "      <td>56616.0</td>\n",
       "      <td>06</td>\n",
       "      <td>075</td>\n",
       "      <td>0.076817</td>\n",
       "    </tr>\n",
       "  </tbody>\n",
       "</table>\n",
       "</div>"
      ],
      "text/plain": [
       "  GEOID1 GEOID2  MOVEDOUT state county  pct_flow\n",
       "0  06001  06001  118601.0    06    001  0.160918\n",
       "1  06013  06013   86865.0    06    013  0.117859\n",
       "2  06041  06041   15065.0    06    041  0.020440\n",
       "3  06055  06055   10557.0    06    055  0.014324\n",
       "4  06075  06075   56616.0    06    075  0.076817"
      ]
     },
     "execution_count": 30,
     "metadata": {},
     "output_type": "execute_result"
    }
   ],
   "source": [
    "acs_df.head()"
   ]
  },
  {
   "cell_type": "markdown",
   "metadata": {},
   "source": [
    "### Merge data"
   ]
  },
  {
   "cell_type": "code",
   "execution_count": 31,
   "metadata": {},
   "outputs": [],
   "source": [
    "merged = pd.merge(flow_counts, acs_df, left_on=['PROP_FIPSCD_from', 'PROP_FIPSCD_to'], right_on=['GEOID1', 'GEOID2'],\n",
    "         suffixes=('_infutor', '_acs'))"
   ]
  },
  {
   "cell_type": "code",
   "execution_count": 32,
   "metadata": {},
   "outputs": [],
   "source": [
    "merged['flow'] = merged['GEOID1'].str[-3:] + '_to_' + merged['GEOID2'].str[-3:]"
   ]
  },
  {
   "cell_type": "code",
   "execution_count": 33,
   "metadata": {},
   "outputs": [],
   "source": [
    "merged = merged.sort_values('pct_flow_acs', ascending=False).reset_index(drop=True).reset_index()\n",
    "merged.rename(columns={'index': 'acs_flow_rank'}, inplace=True)\n",
    "merged = merged.sort_values('pct_flow_infutor', ascending=False).reset_index(drop=True).reset_index()\n",
    "merged.rename(columns={'index': 'infutor_flow_rank'}, inplace=True)"
   ]
  },
  {
   "cell_type": "code",
   "execution_count": 34,
   "metadata": {},
   "outputs": [
    {
     "data": {
      "text/html": [
       "<div>\n",
       "<style scoped>\n",
       "    .dataframe tbody tr th:only-of-type {\n",
       "        vertical-align: middle;\n",
       "    }\n",
       "\n",
       "    .dataframe tbody tr th {\n",
       "        vertical-align: top;\n",
       "    }\n",
       "\n",
       "    .dataframe thead th {\n",
       "        text-align: right;\n",
       "    }\n",
       "</style>\n",
       "<table border=\"1\" class=\"dataframe\">\n",
       "  <thead>\n",
       "    <tr style=\"text-align: right;\">\n",
       "      <th></th>\n",
       "      <th>infutor_flow_rank</th>\n",
       "      <th>acs_flow_rank</th>\n",
       "      <th>PROP_FIPSCD_from</th>\n",
       "      <th>PROP_FIPSCD_to</th>\n",
       "      <th>count</th>\n",
       "      <th>pct_flow_infutor</th>\n",
       "      <th>GEOID1</th>\n",
       "      <th>GEOID2</th>\n",
       "      <th>MOVEDOUT</th>\n",
       "      <th>state</th>\n",
       "      <th>county</th>\n",
       "      <th>pct_flow_acs</th>\n",
       "      <th>flow</th>\n",
       "    </tr>\n",
       "  </thead>\n",
       "  <tbody>\n",
       "    <tr>\n",
       "      <th>0</th>\n",
       "      <td>0</td>\n",
       "      <td>0</td>\n",
       "      <td>06085</td>\n",
       "      <td>06085</td>\n",
       "      <td>77079</td>\n",
       "      <td>0.196930</td>\n",
       "      <td>06085</td>\n",
       "      <td>06085</td>\n",
       "      <td>159435.0</td>\n",
       "      <td>06</td>\n",
       "      <td>085</td>\n",
       "      <td>0.216322</td>\n",
       "      <td>085_to_085</td>\n",
       "    </tr>\n",
       "    <tr>\n",
       "      <th>1</th>\n",
       "      <td>1</td>\n",
       "      <td>2</td>\n",
       "      <td>06013</td>\n",
       "      <td>06013</td>\n",
       "      <td>61154</td>\n",
       "      <td>0.156243</td>\n",
       "      <td>06013</td>\n",
       "      <td>06013</td>\n",
       "      <td>86865.0</td>\n",
       "      <td>06</td>\n",
       "      <td>013</td>\n",
       "      <td>0.117859</td>\n",
       "      <td>013_to_013</td>\n",
       "    </tr>\n",
       "    <tr>\n",
       "      <th>2</th>\n",
       "      <td>2</td>\n",
       "      <td>1</td>\n",
       "      <td>06001</td>\n",
       "      <td>06001</td>\n",
       "      <td>56706</td>\n",
       "      <td>0.144878</td>\n",
       "      <td>06001</td>\n",
       "      <td>06001</td>\n",
       "      <td>118601.0</td>\n",
       "      <td>06</td>\n",
       "      <td>001</td>\n",
       "      <td>0.160918</td>\n",
       "      <td>001_to_001</td>\n",
       "    </tr>\n",
       "    <tr>\n",
       "      <th>3</th>\n",
       "      <td>3</td>\n",
       "      <td>4</td>\n",
       "      <td>06097</td>\n",
       "      <td>06097</td>\n",
       "      <td>25368</td>\n",
       "      <td>0.064813</td>\n",
       "      <td>06097</td>\n",
       "      <td>06097</td>\n",
       "      <td>44683.0</td>\n",
       "      <td>06</td>\n",
       "      <td>097</td>\n",
       "      <td>0.060626</td>\n",
       "      <td>097_to_097</td>\n",
       "    </tr>\n",
       "    <tr>\n",
       "      <th>4</th>\n",
       "      <td>4</td>\n",
       "      <td>6</td>\n",
       "      <td>06095</td>\n",
       "      <td>06095</td>\n",
       "      <td>23881</td>\n",
       "      <td>0.061014</td>\n",
       "      <td>06095</td>\n",
       "      <td>06095</td>\n",
       "      <td>42025.0</td>\n",
       "      <td>06</td>\n",
       "      <td>095</td>\n",
       "      <td>0.057020</td>\n",
       "      <td>095_to_095</td>\n",
       "    </tr>\n",
       "  </tbody>\n",
       "</table>\n",
       "</div>"
      ],
      "text/plain": [
       "   infutor_flow_rank  acs_flow_rank PROP_FIPSCD_from PROP_FIPSCD_to  count  \\\n",
       "0                  0              0            06085          06085  77079   \n",
       "1                  1              2            06013          06013  61154   \n",
       "2                  2              1            06001          06001  56706   \n",
       "3                  3              4            06097          06097  25368   \n",
       "4                  4              6            06095          06095  23881   \n",
       "\n",
       "   pct_flow_infutor GEOID1 GEOID2  MOVEDOUT state county  pct_flow_acs  \\\n",
       "0          0.196930  06085  06085  159435.0    06    085      0.216322   \n",
       "1          0.156243  06013  06013   86865.0    06    013      0.117859   \n",
       "2          0.144878  06001  06001  118601.0    06    001      0.160918   \n",
       "3          0.064813  06097  06097   44683.0    06    097      0.060626   \n",
       "4          0.061014  06095  06095   42025.0    06    095      0.057020   \n",
       "\n",
       "         flow  \n",
       "0  085_to_085  \n",
       "1  013_to_013  \n",
       "2  001_to_001  \n",
       "3  097_to_097  \n",
       "4  095_to_095  "
      ]
     },
     "execution_count": 34,
     "metadata": {},
     "output_type": "execute_result"
    }
   ],
   "source": [
    "merged.head()"
   ]
  },
  {
   "cell_type": "markdown",
   "metadata": {},
   "source": [
    "### Compare % flows"
   ]
  },
  {
   "cell_type": "code",
   "execution_count": 109,
   "metadata": {},
   "outputs": [
    {
     "data": {
      "image/png": "[encoded data removed]",
      "text/plain": [
       "<Figure size 1080x504 with 1 Axes>"
      ]
     },
     "metadata": {
      "needs_background": "light"
     },
     "output_type": "display_data"
    }
   ],
   "source": [
    "fig, ax = plt.subplots(figsize=(15,7))\n",
    "sns.scatterplot(\n",
    "    'infutor_flow_rank', 'pct_flow_infutor', data=merged, label='infutor',\n",
    "    s=70, marker='o', edgecolor='blue', facecolor='None')\n",
    "_ = plt.xticks(\n",
    "    ticks = list(merged.sort_values('infutor_flow_rank')['infutor_flow_rank'].values),\n",
    "    labels = list(merged.sort_values('infutor_flow_rank')['flow'].values),\n",
    "    fontsize=9,\n",
    "    rotation=45, ha='right')\n",
    "sns.scatterplot(\n",
    "    'infutor_flow_rank', 'pct_flow_acs', data=merged, label='acs',\n",
    "    s=70, marker='o', edgecolor='red', facecolor='None')\n",
    "ax.legend(fontsize=15)\n",
    "_ = ax.set_ylabel('% of Intra-county Movers', fontsize=14)\n",
    "_ = ax.set_xlabel('County-to-County Flows', fontsize=15)\n",
    "plt.grid(which='both', axis='x', linestyle='--')"
   ]
  },
  {
   "cell_type": "code",
   "execution_count": 91,
   "metadata": {},
   "outputs": [
    {
     "data": {
      "image/png": "[encoded data removed]",
      "text/plain": [
       "<Figure size 1152x432 with 4 Axes>"
      ]
     },
     "metadata": {
      "needs_background": "light"
     },
     "output_type": "display_data"
    }
   ],
   "source": [
    "\n",
    "acs_pivot = merged.pivot(\"PROP_FIPSCD_from\", \"PROP_FIPSCD_to\", \"pct_flow_acs\")\n",
    "infutor_pivot = merged.pivot(\"PROP_FIPSCD_from\", \"PROP_FIPSCD_to\", \"pct_flow_infutor\")\n",
    "fig, axarr = plt.subplots(1,2, figsize=(16,6))\n",
    "sns.heatmap(acs_pivot, ax=axarr[0])\n",
    "sns.heatmap(infutor_pivot, ax=axarr[1], cbar_kws={'label': 'log(%)'})\n",
    "axarr[0].set_title('ACS Flows', fontsize=15)\n",
    "axarr[0].set_xlabel('FIPS To', fontsize=13)\n",
    "axarr[0].set_ylabel('FIPS From', fontsize=13)\n",
    "axarr[1].set_title('Infutor Flows', fontsize=15)\n",
    "axarr[1].set_xlabel('FIPS To', fontsize=13)\n",
    "axarr[1].set_ylabel('')\n",
    "_ = fig.suptitle('% of Intra-region Movers', fontsize=16)"
   ]
  },
  {
   "cell_type": "code",
   "execution_count": 84,
   "metadata": {},
   "outputs": [
    {
     "data": {
      "image/png": "[encoded data removed]",
      "text/plain": [
       "<Figure size 1152x432 with 4 Axes>"
      ]
     },
     "metadata": {
      "needs_background": "light"
     },
     "output_type": "display_data"
    }
   ],
   "source": [
    "acs_pivot = np.log(merged.pivot(\"PROP_FIPSCD_from\", \"PROP_FIPSCD_to\", \"pct_flow_acs\"))\n",
    "infutor_pivot = np.log(merged.pivot(\"PROP_FIPSCD_from\", \"PROP_FIPSCD_to\", \"pct_flow_infutor\"))\n",
    "fig, axarr = plt.subplots(1,2, figsize=(16,6))\n",
    "sns.heatmap(acs_pivot, ax=axarr[0])\n",
    "sns.heatmap(infutor_pivot, ax=axarr[1], cbar_kws={'label': 'log(%)'})\n",
    "axarr[0].set_title('ACS Flows', fontsize=15)\n",
    "axarr[0].set_xlabel('FIPS To', fontsize=13)\n",
    "axarr[0].set_ylabel('FIPS From', fontsize=13)\n",
    "axarr[1].set_title('Infutor Flows', fontsize=15)\n",
    "axarr[1].set_xlabel('FIPS To', fontsize=13)\n",
    "axarr[1].set_ylabel('')\n",
    "_ = fig.suptitle('Log(%) of Intra-region Movers', fontsize=16)"
   ]
  },
  {
   "cell_type": "code",
   "execution_count": 83,
   "metadata": {},
   "outputs": [
    {
     "data": {
      "image/png": "[encoded data removed]",
      "text/plain": [
       "<Figure size 1152x432 with 4 Axes>"
      ]
     },
     "metadata": {
      "needs_background": "light"
     },
     "output_type": "display_data"
    }
   ],
   "source": [
    "fig, axarr = plt.subplots(1,2, figsize=(16,6))\n",
    "acs_pivot = merged[merged['PROP_FIPSCD_from'] != merged['PROP_FIPSCD_to']].pivot(\"PROP_FIPSCD_from\", \"PROP_FIPSCD_to\", \"pct_flow_acs\")\n",
    "infutor_pivot = merged[merged['PROP_FIPSCD_from'] != merged['PROP_FIPSCD_to']].pivot(\"PROP_FIPSCD_from\", \"PROP_FIPSCD_to\", \"pct_flow_infutor\")\n",
    "sns.heatmap(acs_pivot, ax=axarr[0])\n",
    "sns.heatmap(infutor_pivot, ax=axarr[1], cbar_kws={'label': 'log(%)'})\n",
    "axarr[0].set_title('ACS Flows', fontsize=15)\n",
    "axarr[0].set_xlabel('FIPS To', fontsize=13)\n",
    "axarr[0].set_ylabel('FIPS From', fontsize=13)\n",
    "axarr[1].set_title('Infutor Flows', fontsize=15)\n",
    "axarr[1].set_xlabel('FIPS To', fontsize=13)\n",
    "axarr[1].set_ylabel('')\n",
    "_ = fig.suptitle('% of Intra-region Movers (Inter-county only)', fontsize=16)\n"
   ]
  },
  {
   "cell_type": "code",
   "execution_count": null,
   "metadata": {},
   "outputs": [],
   "source": []
  }
 ],
 "metadata": {
  "kernelspec": {
   "display_name": "Python 3",
   "language": "python",
   "name": "python3"
  },
  "language_info": {
   "codemirror_mode": {
    "name": "ipython",
    "version": 3
   },
   "file_extension": ".py",
   "mimetype": "text/x-python",
   "name": "python",
   "nbconvert_exporter": "python",
   "pygments_lexer": "ipython3",
   "version": "3.7.1"
  }
 },
 "nbformat": 4,
 "nbformat_minor": 2
}
