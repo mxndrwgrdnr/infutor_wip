{
 "cells": [
  {
   "cell_type": "code",
   "execution_count": 8,
   "metadata": {},
   "outputs": [],
   "source": [
    "import pandas as pd\n",
    "from matplotlib import pyplot as  plt\n",
    "import seaborn as sns\n",
    "import numpy as np\n",
    "import census\n",
    "%matplotlib inline"
   ]
  },
  {
   "cell_type": "code",
   "execution_count": 2,
   "metadata": {},
   "outputs": [],
   "source": [
    "movers = pd.read_csv('../data/movers.csv')"
   ]
  },
  {
   "cell_type": "code",
   "execution_count": 3,
   "metadata": {},
   "outputs": [
    {
     "data": {
      "text/html": [
       "<div>\n",
       "<style scoped>\n",
       "    .dataframe tbody tr th:only-of-type {\n",
       "        vertical-align: middle;\n",
       "    }\n",
       "\n",
       "    .dataframe tbody tr th {\n",
       "        vertical-align: top;\n",
       "    }\n",
       "\n",
       "    .dataframe thead th {\n",
       "        text-align: right;\n",
       "    }\n",
       "</style>\n",
       "<table border=\"1\" class=\"dataframe\">\n",
       "  <thead>\n",
       "    <tr style=\"text-align: right;\">\n",
       "      <th></th>\n",
       "      <th>Unnamed: 0</th>\n",
       "      <th>from_addrid</th>\n",
       "      <th>from_lat</th>\n",
       "      <th>from_lon</th>\n",
       "      <th>PROP_IND_from</th>\n",
       "      <th>PROP_OWNEROCC_from</th>\n",
       "      <th>PROP_QLTY_from</th>\n",
       "      <th>PROP_VALCALC_from</th>\n",
       "      <th>PROP_UNVBLDSQFT_from</th>\n",
       "      <th>PROP_BEDRMS_from</th>\n",
       "      <th>...</th>\n",
       "      <th>to_effdate</th>\n",
       "      <th>distance</th>\n",
       "      <th>AGE</th>\n",
       "      <th>LOR</th>\n",
       "      <th>HOMEOWNERCD</th>\n",
       "      <th>EHI</th>\n",
       "      <th>PCTB</th>\n",
       "      <th>PCTW</th>\n",
       "      <th>PCTH</th>\n",
       "      <th>PCTA</th>\n",
       "    </tr>\n",
       "  </thead>\n",
       "  <tbody>\n",
       "    <tr>\n",
       "      <th>0</th>\n",
       "      <td>Y39394000231102</td>\n",
       "      <td>124297011.0</td>\n",
       "      <td>37.982800</td>\n",
       "      <td>-121.83700</td>\n",
       "      <td>10.0</td>\n",
       "      <td>O</td>\n",
       "      <td>QGO</td>\n",
       "      <td>316975.0</td>\n",
       "      <td>2522.0</td>\n",
       "      <td>4.0</td>\n",
       "      <td>...</td>\n",
       "      <td>201007.0</td>\n",
       "      <td>20241.509295</td>\n",
       "      <td>93.0</td>\n",
       "      <td>3.0</td>\n",
       "      <td>NaN</td>\n",
       "      <td>A</td>\n",
       "      <td>S</td>\n",
       "      <td>F</td>\n",
       "      <td>P</td>\n",
       "      <td>S</td>\n",
       "    </tr>\n",
       "    <tr>\n",
       "      <th>1</th>\n",
       "      <td>Y39394000242239</td>\n",
       "      <td>52245208.0</td>\n",
       "      <td>37.926600</td>\n",
       "      <td>-122.38900</td>\n",
       "      <td>10.0</td>\n",
       "      <td>A</td>\n",
       "      <td>NaN</td>\n",
       "      <td>331019.0</td>\n",
       "      <td>1697.0</td>\n",
       "      <td>2.0</td>\n",
       "      <td>...</td>\n",
       "      <td>201610.0</td>\n",
       "      <td>8068.106654</td>\n",
       "      <td>93.0</td>\n",
       "      <td>15.0</td>\n",
       "      <td>H</td>\n",
       "      <td>D</td>\n",
       "      <td>S</td>\n",
       "      <td>F</td>\n",
       "      <td>Q</td>\n",
       "      <td>S</td>\n",
       "    </tr>\n",
       "    <tr>\n",
       "      <th>2</th>\n",
       "      <td>Y39394000314991</td>\n",
       "      <td>186863857.0</td>\n",
       "      <td>37.774000</td>\n",
       "      <td>-122.26000</td>\n",
       "      <td>10.0</td>\n",
       "      <td>A</td>\n",
       "      <td>QAV</td>\n",
       "      <td>309321.0</td>\n",
       "      <td>1621.0</td>\n",
       "      <td>3.0</td>\n",
       "      <td>...</td>\n",
       "      <td>201706.0</td>\n",
       "      <td>1601.150776</td>\n",
       "      <td>48.0</td>\n",
       "      <td>8.0</td>\n",
       "      <td>H</td>\n",
       "      <td>G</td>\n",
       "      <td>R</td>\n",
       "      <td>P</td>\n",
       "      <td>R</td>\n",
       "      <td>L</td>\n",
       "    </tr>\n",
       "    <tr>\n",
       "      <th>3</th>\n",
       "      <td>Y39394000381839</td>\n",
       "      <td>83668792.0</td>\n",
       "      <td>37.751273</td>\n",
       "      <td>-122.43469</td>\n",
       "      <td>22.0</td>\n",
       "      <td>NaN</td>\n",
       "      <td>NaN</td>\n",
       "      <td>1009257.0</td>\n",
       "      <td>3175.0</td>\n",
       "      <td>NaN</td>\n",
       "      <td>...</td>\n",
       "      <td>200310.0</td>\n",
       "      <td>43484.264229</td>\n",
       "      <td>76.0</td>\n",
       "      <td>6.0</td>\n",
       "      <td>R</td>\n",
       "      <td>G</td>\n",
       "      <td>T</td>\n",
       "      <td>H</td>\n",
       "      <td>R</td>\n",
       "      <td>P</td>\n",
       "    </tr>\n",
       "    <tr>\n",
       "      <th>4</th>\n",
       "      <td>Y39394000381839</td>\n",
       "      <td>47811725.0</td>\n",
       "      <td>37.577400</td>\n",
       "      <td>-121.99300</td>\n",
       "      <td>10.0</td>\n",
       "      <td>O</td>\n",
       "      <td>QAV</td>\n",
       "      <td>355445.0</td>\n",
       "      <td>1140.0</td>\n",
       "      <td>2.0</td>\n",
       "      <td>...</td>\n",
       "      <td>201304.0</td>\n",
       "      <td>21687.900364</td>\n",
       "      <td>76.0</td>\n",
       "      <td>6.0</td>\n",
       "      <td>R</td>\n",
       "      <td>G</td>\n",
       "      <td>T</td>\n",
       "      <td>H</td>\n",
       "      <td>R</td>\n",
       "      <td>P</td>\n",
       "    </tr>\n",
       "  </tbody>\n",
       "</table>\n",
       "<p>5 rows × 29 columns</p>\n",
       "</div>"
      ],
      "text/plain": [
       "        Unnamed: 0  from_addrid   from_lat   from_lon  PROP_IND_from  \\\n",
       "0  Y39394000231102  124297011.0  37.982800 -121.83700           10.0   \n",
       "1  Y39394000242239   52245208.0  37.926600 -122.38900           10.0   \n",
       "2  Y39394000314991  186863857.0  37.774000 -122.26000           10.0   \n",
       "3  Y39394000381839   83668792.0  37.751273 -122.43469           22.0   \n",
       "4  Y39394000381839   47811725.0  37.577400 -121.99300           10.0   \n",
       "\n",
       "  PROP_OWNEROCC_from PROP_QLTY_from  PROP_VALCALC_from  PROP_UNVBLDSQFT_from  \\\n",
       "0                  O            QGO           316975.0                2522.0   \n",
       "1                  A            NaN           331019.0                1697.0   \n",
       "2                  A            QAV           309321.0                1621.0   \n",
       "3                NaN            NaN          1009257.0                3175.0   \n",
       "4                  O            QAV           355445.0                1140.0   \n",
       "\n",
       "   PROP_BEDRMS_from  ...  to_effdate      distance   AGE   LOR HOMEOWNERCD  \\\n",
       "0               4.0  ...    201007.0  20241.509295  93.0   3.0         NaN   \n",
       "1               2.0  ...    201610.0   8068.106654  93.0  15.0           H   \n",
       "2               3.0  ...    201706.0   1601.150776  48.0   8.0           H   \n",
       "3               NaN  ...    200310.0  43484.264229  76.0   6.0           R   \n",
       "4               2.0  ...    201304.0  21687.900364  76.0   6.0           R   \n",
       "\n",
       "  EHI  PCTB  PCTW  PCTH  PCTA  \n",
       "0   A     S     F     P     S  \n",
       "1   D     S     F     Q     S  \n",
       "2   G     R     P     R     L  \n",
       "3   G     T     H     R     P  \n",
       "4   G     T     H     R     P  \n",
       "\n",
       "[5 rows x 29 columns]"
      ]
     },
     "execution_count": 3,
     "metadata": {},
     "output_type": "execute_result"
    }
   ],
   "source": [
    "movers.head()"
   ]
  },
  {
   "cell_type": "code",
   "execution_count": 5,
   "metadata": {},
   "outputs": [
    {
     "data": {
      "text/plain": [
       "Index(['Unnamed: 0', 'from_addrid', 'from_lat', 'from_lon', 'PROP_IND_from',\n",
       "       'PROP_OWNEROCC_from', 'PROP_QLTY_from', 'PROP_VALCALC_from',\n",
       "       'PROP_UNVBLDSQFT_from', 'PROP_BEDRMS_from', 'to_addrid', 'to_lat',\n",
       "       'to_lon', 'PROP_IND_to', 'PROP_OWNEROCC_to', 'PROP_QLTY_to',\n",
       "       'PROP_VALCALC_to', 'PROP_UNVBLDSQFT_to', 'PROP_BEDRMS_to', 'to_effdate',\n",
       "       'distance', 'AGE', 'LOR', 'HOMEOWNERCD', 'EHI', 'PCTB', 'PCTW', 'PCTH',\n",
       "       'PCTA'],\n",
       "      dtype='object')"
      ]
     },
     "execution_count": 5,
     "metadata": {},
     "output_type": "execute_result"
    }
   ],
   "source": [
    "movers.columns"
   ]
  },
  {
   "cell_type": "code",
   "execution_count": 4,
   "metadata": {},
   "outputs": [
    {
     "data": {
      "text/plain": [
       "QAV    1337352\n",
       "QGO     645784\n",
       "QFA      23017\n",
       "QEX      17731\n",
       "QPO       6724\n",
       "QLU        723\n",
       "Name: PROP_QLTY_from, dtype: int64"
      ]
     },
     "execution_count": 4,
     "metadata": {},
     "output_type": "execute_result"
    }
   ],
   "source": [
    "movers['PROP_QLTY_from'].value_counts()"
   ]
  },
  {
   "cell_type": "code",
   "execution_count": 6,
   "metadata": {},
   "outputs": [
    {
     "data": {
      "text/plain": [
       "<matplotlib.axes._subplots.AxesSubplot at 0x7f416abcdb00>"
      ]
     },
     "execution_count": 6,
     "metadata": {},
     "output_type": "execute_result"
    },
    {
     "data": {
      "image/png": "[encoded data removed]",
      "text/plain": [
       "<Figure size 432x288 with 1 Axes>"
      ]
     },
     "metadata": {
      "needs_background": "light"
     },
     "output_type": "display_data"
    }
   ],
   "source": [
    "sns.distplot(movers['to_effdate'], kde=False)"
   ]
  },
  {
   "cell_type": "code",
   "execution_count": null,
   "metadata": {},
   "outputs": [],
   "source": []
  }
 ],
 "metadata": {
  "kernelspec": {
   "display_name": "Python 3",
   "language": "python",
   "name": "python3"
  },
  "language_info": {
   "codemirror_mode": {
    "name": "ipython",
    "version": 3
   },
   "file_extension": ".py",
   "mimetype": "text/x-python",
   "name": "python",
   "nbconvert_exporter": "python",
   "pygments_lexer": "ipython3",
   "version": "3.7.1"
  }
 },
 "nbformat": 4,
 "nbformat_minor": 2
}
